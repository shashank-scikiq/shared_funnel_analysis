{
 "cells": [
  {
   "cell_type": "markdown",
   "metadata": {},
   "source": [
    "## Imports"
   ]
  },
  {
   "cell_type": "markdown",
   "metadata": {},
   "source": [
    "1. Remove all transactions where there is confirm but no on_confirm, init but not on_init, select but not on_select. \n",
    "\t* Ensure that you keep a dump that we can test and see why thats happening\n",
    "\n",
    "2. If there are multiple selects happening for the same transaction ID and different Provider ID Keys, then take it as different Selects.\n",
    "\n",
    "3. Time of day - take the select call timestamp\n",
    "\n",
    "4. .Create  a sequence where Level 1= Select, 2= Init, 3 = Confirm. \n",
    "\t* Lets then see the drop off rate Overall, BAP, SAP, Time of the day (make time intervals through the day). \n",
    "\t* Is there a location?\n",
    "\n",
    "5. Check the \"Confirm\" status for each day and match it against the confirmed orders for the day in Open Data. Then we will know whether the data is matching."
   ]
  },
  {
   "cell_type": "markdown",
   "metadata": {},
   "source": [
    "Main objective is to observe the dropoff and try to find out the factors for the same."
   ]
  },
  {
   "cell_type": "code",
   "execution_count": 1,
   "metadata": {},
   "outputs": [],
   "source": [
    "import pandas as pd\n",
    "import numpy as np\n",
    "import seaborn as sns\n",
    "import os\n",
    "from dotenv import load_dotenv"
   ]
  },
  {
   "cell_type": "code",
   "execution_count": 2,
   "metadata": {},
   "outputs": [],
   "source": [
    "from pyathena import connect\n",
    "from pyathena.pandas.cursor import PandasCursor\n",
    "import psycopg"
   ]
  },
  {
   "cell_type": "code",
   "execution_count": 3,
   "metadata": {},
   "outputs": [],
   "source": [
    "from sqlalchemy import create_engine"
   ]
  },
  {
   "cell_type": "code",
   "execution_count": 4,
   "metadata": {},
   "outputs": [
    {
     "data": {
      "text/plain": [
       "True"
      ]
     },
     "execution_count": 4,
     "metadata": {},
     "output_type": "execute_result"
    }
   ],
   "source": [
    "load_dotenv(\".env\")"
   ]
  },
  {
   "cell_type": "markdown",
   "metadata": {},
   "source": [
    "## Environent Variables"
   ]
  },
  {
   "cell_type": "code",
   "execution_count": 5,
   "metadata": {},
   "outputs": [],
   "source": [
    "aws_schema = os.getenv('SCHEMA_NAME')\n",
    "aws_tbl = os.getenv('TABLE_NAME')\n",
    "\n",
    "aws_access_key = os.getenv('AWS_ACCESS_KEY')\n",
    "aws_secret_key = os.getenv('AWS_SECRET_KEY')\n",
    "aws_region = os.getenv('AWS_REGION')\n",
    "aws_staging_dir = os.getenv('S3_STAGING_DIR')\n",
    "\n",
    "aws_db = os.getenv('DATABASE_NAME')"
   ]
  },
  {
   "cell_type": "code",
   "execution_count": 6,
   "metadata": {},
   "outputs": [],
   "source": [
    "tgt_user = os.getenv(\"POSTGRES_USER\")\n",
    "tgt_pwd = os.getenv(\"POSTGRES_PASSWORD\")\n",
    "tgt_host = os.getenv(\"POSTGRES_HOST\")\n",
    "tgt_port = os.getenv(\"POSTGRES_PORT\") \n",
    "\n",
    "tgt_schema = os.getenv(\"POSTGRES_SCHEMA\")\n",
    "tgt_db = os.getenv(\"POSTGRES_DB\")"
   ]
  },
  {
   "cell_type": "code",
   "execution_count": 7,
   "metadata": {},
   "outputs": [
    {
     "data": {
      "text/plain": [
       "'postgres'"
      ]
     },
     "execution_count": 7,
     "metadata": {},
     "output_type": "execute_result"
    }
   ],
   "source": [
    "tgt_user"
   ]
  },
  {
   "cell_type": "markdown",
   "metadata": {},
   "source": [
    "## Setting up the connection"
   ]
  },
  {
   "cell_type": "code",
   "execution_count": 8,
   "metadata": {},
   "outputs": [],
   "source": [
    "pg_conn = create_engine(f\"postgresql+psycopg://{tgt_user}:{tgt_pwd}@{tgt_host}:{tgt_port}/{tgt_db}\")"
   ]
  },
  {
   "cell_type": "code",
   "execution_count": 9,
   "metadata": {},
   "outputs": [
    {
     "name": "stdout",
     "output_type": "stream",
     "text": [
      "Connected to Athena Database using pandas' connector.\n"
     ]
    }
   ],
   "source": [
    "try:\n",
    "    pandas_ath_cursor = connect(\n",
    "        aws_access_key_id=aws_access_key,\n",
    "        aws_secret_access_key=aws_secret_key,\n",
    "        s3_staging_dir=aws_staging_dir,\n",
    "        region_name=aws_region,\n",
    "        schema_name=aws_schema,\n",
    "        cursor_class=PandasCursor).cursor()\n",
    "except Exception as e:\n",
    "    print(e.args[0])\n",
    "else:\n",
    "    print(\"Connected to Athena Database using pandas' connector.\")"
   ]
  },
  {
   "cell_type": "markdown",
   "metadata": {},
   "source": [
    "### DB Functions"
   ]
  },
  {
   "cell_type": "code",
   "execution_count": 10,
   "metadata": {},
   "outputs": [],
   "source": [
    "def run_sql_athena(query: str, db_cursor, size: int=0):\n",
    "\tdf = pd.DataFrame()\n",
    "\ttry:\n",
    "\t\tprint(\"Executing the query on AWS Athena.\")\n",
    "\t\tif size != 0:\n",
    "\t\t\tdf = db_cursor.execute(query).fetchmany(size).as_pandas()\n",
    "\t\telse:\n",
    "\t\t\tdf = db_cursor.execute(query).as_pandas()\n",
    "\texcept Exception as e:\n",
    "\t\tprint(e.args[0])\n",
    "\t\treturn\n",
    "\telse:\n",
    "\t\tprint(\"Successfully executed the query.\")\n",
    "\n",
    "\treturn df"
   ]
  },
  {
   "cell_type": "code",
   "execution_count": 11,
   "metadata": {},
   "outputs": [],
   "source": [
    "def write_to_pg(schema_name: str, table_name: str, db_conn:str, df_tgt: pd.DataFrame,chunk: int = 50000):\n",
    "  try:\n",
    "    df_tgt.to_sql(con=db_conn,\n",
    "              chunksize=chunk,if_exists=\"replace\", \n",
    "                            name=table_name, schema=schema_name)\n",
    "  except Exception as e:\n",
    "    print(e.args[0])\n",
    "    return False\n",
    "  else:\n",
    "    print(\"Write Successful\")\n",
    "    return True"
   ]
  },
  {
   "cell_type": "markdown",
   "metadata": {},
   "source": [
    "### SQL Queries"
   ]
  },
  {
   "cell_type": "code",
   "execution_count": 12,
   "metadata": {},
   "outputs": [],
   "source": [
    "row_limiter = 25000"
   ]
  },
  {
   "cell_type": "code",
   "execution_count": 13,
   "metadata": {},
   "outputs": [],
   "source": [
    "all_trs = f\"\"\"select distinct transaction_id, count(1) from {aws_db}.{aws_tbl}\n",
    "group by transaction_id\n",
    "order by count(1) desc;\"\"\""
   ]
  },
  {
   "cell_type": "code",
   "execution_count": 14,
   "metadata": {},
   "outputs": [],
   "source": [
    "# tr_funnel_all = f\"\"\"select * from {aws_db}.{aws_tbl} \n",
    "# order by transaction_id, select_timestamp;\"\"\""
   ]
  },
  {
   "cell_type": "code",
   "execution_count": 15,
   "metadata": {},
   "outputs": [],
   "source": [
    "tr_funnel_filtered = f\"\"\"select * from {aws_db}.{aws_tbl}\n",
    "where transaction_id in (\n",
    "select transaction_id from (\n",
    "select distinct transaction_id, count(1) \n",
    "\tfrom {aws_db}.{aws_tbl}\n",
    "\tgroup by transaction_id\n",
    "\torder by count(1) desc limit {row_limiter}\n",
    ")) order by transaction_id, select_timestamp;\"\"\""
   ]
  },
  {
   "cell_type": "markdown",
   "metadata": {},
   "source": [
    "### Populating Data in SQL Table"
   ]
  },
  {
   "cell_type": "markdown",
   "metadata": {},
   "source": [
    "#### Getting the data from AWS Athena."
   ]
  },
  {
   "cell_type": "code",
   "execution_count": 14,
   "metadata": {},
   "outputs": [
    {
     "name": "stdout",
     "output_type": "stream",
     "text": [
      "Executing the query on AWS Athena.\n",
      "Successfully executed the query.\n"
     ]
    }
   ],
   "source": [
    "df_all_trs = run_sql_athena(all_trs, pandas_ath_cursor)"
   ]
  },
  {
   "cell_type": "code",
   "execution_count": 17,
   "metadata": {},
   "outputs": [],
   "source": [
    "# df_all_trs.to_parquet(\"all_trs.parquet\")"
   ]
  },
  {
   "cell_type": "code",
   "execution_count": 18,
   "metadata": {},
   "outputs": [],
   "source": [
    "# df_all_trs.shape"
   ]
  },
  {
   "cell_type": "code",
   "execution_count": 19,
   "metadata": {},
   "outputs": [],
   "source": [
    "# df_tr_funnel_all = run_sql_athena(tr_funnel_filtered, pandas_ath_cursor)"
   ]
  },
  {
   "cell_type": "code",
   "execution_count": 20,
   "metadata": {},
   "outputs": [],
   "source": [
    "# df_tr_funnel_all.to_parquet(\"funnel_all.parquet\")"
   ]
  },
  {
   "cell_type": "code",
   "execution_count": 21,
   "metadata": {},
   "outputs": [],
   "source": [
    "df_all_trs = pd.read_parquet(\"all_trs.parquet\")"
   ]
  },
  {
   "cell_type": "code",
   "execution_count": 22,
   "metadata": {},
   "outputs": [],
   "source": [
    "df_tr_funnel_all = pd.read_parquet(\"funnel_all.parquet\")"
   ]
  },
  {
   "cell_type": "markdown",
   "metadata": {},
   "source": [
    "#### Writing to Postgresql"
   ]
  },
  {
   "cell_type": "code",
   "execution_count": 23,
   "metadata": {},
   "outputs": [],
   "source": [
    "# write_to_pg(\"tr_fun\", \"all_transactions\",df_tgt= df_all_trs, db_conn=pg_conn)"
   ]
  },
  {
   "cell_type": "code",
   "execution_count": 24,
   "metadata": {},
   "outputs": [],
   "source": [
    "# write_to_pg(\"tr_fun\", \"funnel_all\",df_tgt= df_tr_funnel_all, db_conn=pg_conn)"
   ]
  },
  {
   "cell_type": "markdown",
   "metadata": {},
   "source": [
    "## Analysis"
   ]
  },
  {
   "cell_type": "code",
   "execution_count": 15,
   "metadata": {},
   "outputs": [
    {
     "ename": "NameError",
     "evalue": "name 'df_tr_funnel_all' is not defined",
     "output_type": "error",
     "traceback": [
      "\u001b[1;31m---------------------------------------------------------------------------\u001b[0m",
      "\u001b[1;31mNameError\u001b[0m                                 Traceback (most recent call last)",
      "Cell \u001b[1;32mIn[15], line 1\u001b[0m\n\u001b[1;32m----> 1\u001b[0m unique_trs \u001b[38;5;241m=\u001b[39m \u001b[43mdf_tr_funnel_all\u001b[49m[\u001b[38;5;124m\"\u001b[39m\u001b[38;5;124mtransaction_id\u001b[39m\u001b[38;5;124m\"\u001b[39m]\u001b[38;5;241m.\u001b[39munique()\n",
      "\u001b[1;31mNameError\u001b[0m: name 'df_tr_funnel_all' is not defined"
     ]
    }
   ],
   "source": [
    "unique_trs = df_tr_funnel_all[\"transaction_id\"].unique()"
   ]
  },
  {
   "cell_type": "code",
   "execution_count": 26,
   "metadata": {},
   "outputs": [
    {
     "data": {
      "text/plain": [
       "25000"
      ]
     },
     "execution_count": 26,
     "metadata": {},
     "output_type": "execute_result"
    }
   ],
   "source": [
    "len(unique_trs)"
   ]
  },
  {
   "cell_type": "code",
   "execution_count": 27,
   "metadata": {},
   "outputs": [],
   "source": [
    "tr_types = df_tr_funnel_all[\"transaction_type\"].unique()"
   ]
  },
  {
   "cell_type": "code",
   "execution_count": 28,
   "metadata": {},
   "outputs": [
    {
     "data": {
      "text/plain": [
       "array(['on_select', 'confirm', 'select', 'on_init', 'init', 'on_confirm'],\n",
       "      dtype=object)"
      ]
     },
     "execution_count": 28,
     "metadata": {},
     "output_type": "execute_result"
    }
   ],
   "source": [
    "tr_types # Get this from the database itself. "
   ]
  },
  {
   "cell_type": "code",
   "execution_count": 29,
   "metadata": {},
   "outputs": [],
   "source": [
    "df = df_tr_funnel_all.copy()"
   ]
  },
  {
   "cell_type": "code",
   "execution_count": 30,
   "metadata": {},
   "outputs": [
    {
     "data": {
      "text/html": [
       "<div>\n",
       "<style scoped>\n",
       "    .dataframe tbody tr th:only-of-type {\n",
       "        vertical-align: middle;\n",
       "    }\n",
       "\n",
       "    .dataframe tbody tr th {\n",
       "        vertical-align: top;\n",
       "    }\n",
       "\n",
       "    .dataframe thead th {\n",
       "        text-align: right;\n",
       "    }\n",
       "</style>\n",
       "<table border=\"1\" class=\"dataframe\">\n",
       "  <thead>\n",
       "    <tr style=\"text-align: right;\">\n",
       "      <th></th>\n",
       "      <th>bpp_id</th>\n",
       "      <th>bap_id</th>\n",
       "      <th>domain</th>\n",
       "      <th>transaction_type</th>\n",
       "      <th>transaction_id</th>\n",
       "      <th>num_count</th>\n",
       "      <th>select_timestamp</th>\n",
       "      <th>std_code</th>\n",
       "      <th>provider_name</th>\n",
       "      <th>provider_id</th>\n",
       "    </tr>\n",
       "  </thead>\n",
       "  <tbody>\n",
       "    <tr>\n",
       "      <th>0</th>\n",
       "      <td>webapi.magicpin.in/oms_partner/ondc</td>\n",
       "      <td>ondc-bap.olacabs.com</td>\n",
       "      <td>ONDC:RET11</td>\n",
       "      <td>on_select</td>\n",
       "      <td>0001e709-5ed3-436c-8f34-c04c27174ca5</td>\n",
       "      <td>8</td>\n",
       "      <td>2024-05-29T22:38:52Z</td>\n",
       "      <td>std:080</td>\n",
       "      <td>Wow! Momo</td>\n",
       "      <td>46315883</td>\n",
       "    </tr>\n",
       "    <tr>\n",
       "      <th>1</th>\n",
       "      <td>webapi.magicpin.in/oms_partner/ondc</td>\n",
       "      <td>ondc-bap.olacabs.com</td>\n",
       "      <td>ONDC:RET11</td>\n",
       "      <td>confirm</td>\n",
       "      <td>0001e709-5ed3-436c-8f34-c04c27174ca5</td>\n",
       "      <td>1</td>\n",
       "      <td>2024-05-29T22:38:52Z</td>\n",
       "      <td>std:080</td>\n",
       "      <td>Wow! Momo</td>\n",
       "      <td>46315883</td>\n",
       "    </tr>\n",
       "    <tr>\n",
       "      <th>2</th>\n",
       "      <td>webapi.magicpin.in/oms_partner/ondc</td>\n",
       "      <td>ondc-bap.olacabs.com</td>\n",
       "      <td>ONDC:RET11</td>\n",
       "      <td>select</td>\n",
       "      <td>0001e709-5ed3-436c-8f34-c04c27174ca5</td>\n",
       "      <td>8</td>\n",
       "      <td>2024-05-29T22:38:52Z</td>\n",
       "      <td>std:080</td>\n",
       "      <td>Wow! Momo</td>\n",
       "      <td>46315883</td>\n",
       "    </tr>\n",
       "    <tr>\n",
       "      <th>3</th>\n",
       "      <td>webapi.magicpin.in/oms_partner/ondc</td>\n",
       "      <td>ondc-bap.olacabs.com</td>\n",
       "      <td>ONDC:RET11</td>\n",
       "      <td>on_init</td>\n",
       "      <td>0001e709-5ed3-436c-8f34-c04c27174ca5</td>\n",
       "      <td>2</td>\n",
       "      <td>2024-05-29T22:38:52Z</td>\n",
       "      <td>std:080</td>\n",
       "      <td>Wow! Momo</td>\n",
       "      <td>46315883</td>\n",
       "    </tr>\n",
       "    <tr>\n",
       "      <th>4</th>\n",
       "      <td>webapi.magicpin.in/oms_partner/ondc</td>\n",
       "      <td>ondc-bap.olacabs.com</td>\n",
       "      <td>ONDC:RET11</td>\n",
       "      <td>init</td>\n",
       "      <td>0001e709-5ed3-436c-8f34-c04c27174ca5</td>\n",
       "      <td>2</td>\n",
       "      <td>2024-05-29T22:38:52Z</td>\n",
       "      <td>std:080</td>\n",
       "      <td>Wow! Momo</td>\n",
       "      <td>46315883</td>\n",
       "    </tr>\n",
       "  </tbody>\n",
       "</table>\n",
       "</div>"
      ],
      "text/plain": [
       "                                bpp_id                bap_id      domain  \\\n",
       "0  webapi.magicpin.in/oms_partner/ondc  ondc-bap.olacabs.com  ONDC:RET11   \n",
       "1  webapi.magicpin.in/oms_partner/ondc  ondc-bap.olacabs.com  ONDC:RET11   \n",
       "2  webapi.magicpin.in/oms_partner/ondc  ondc-bap.olacabs.com  ONDC:RET11   \n",
       "3  webapi.magicpin.in/oms_partner/ondc  ondc-bap.olacabs.com  ONDC:RET11   \n",
       "4  webapi.magicpin.in/oms_partner/ondc  ondc-bap.olacabs.com  ONDC:RET11   \n",
       "\n",
       "  transaction_type                        transaction_id  num_count  \\\n",
       "0        on_select  0001e709-5ed3-436c-8f34-c04c27174ca5          8   \n",
       "1          confirm  0001e709-5ed3-436c-8f34-c04c27174ca5          1   \n",
       "2           select  0001e709-5ed3-436c-8f34-c04c27174ca5          8   \n",
       "3          on_init  0001e709-5ed3-436c-8f34-c04c27174ca5          2   \n",
       "4             init  0001e709-5ed3-436c-8f34-c04c27174ca5          2   \n",
       "\n",
       "       select_timestamp std_code provider_name provider_id  \n",
       "0  2024-05-29T22:38:52Z  std:080     Wow! Momo    46315883  \n",
       "1  2024-05-29T22:38:52Z  std:080     Wow! Momo    46315883  \n",
       "2  2024-05-29T22:38:52Z  std:080     Wow! Momo    46315883  \n",
       "3  2024-05-29T22:38:52Z  std:080     Wow! Momo    46315883  \n",
       "4  2024-05-29T22:38:52Z  std:080     Wow! Momo    46315883  "
      ]
     },
     "execution_count": 30,
     "metadata": {},
     "output_type": "execute_result"
    }
   ],
   "source": [
    "df.head(5)"
   ]
  },
  {
   "cell_type": "code",
   "execution_count": 31,
   "metadata": {},
   "outputs": [
    {
     "data": {
      "text/plain": [
       "(432099, 10)"
      ]
     },
     "execution_count": 31,
     "metadata": {},
     "output_type": "execute_result"
    }
   ],
   "source": [
    "df.shape"
   ]
  },
  {
   "cell_type": "code",
   "execution_count": 32,
   "metadata": {},
   "outputs": [],
   "source": [
    "df[\"segment_key\"] = df[\"transaction_id\"]+\"__\"+df[\"provider_id\"]"
   ]
  },
  {
   "cell_type": "code",
   "execution_count": 33,
   "metadata": {},
   "outputs": [],
   "source": [
    "id_cols = [\"bpp_id\", \"bap_id\",\"std_code\",\"provider_name\",\"provider_id\", \"transaction_id\", \"segment_key\"]"
   ]
  },
  {
   "cell_type": "code",
   "execution_count": 34,
   "metadata": {},
   "outputs": [
    {
     "name": "stdout",
     "output_type": "stream",
     "text": [
      "bpp_id  -->  21\n",
      "bap_id  -->  6\n",
      "std_code  -->  70\n",
      "provider_name  -->  4865\n",
      "provider_id  -->  12479\n",
      "transaction_id  -->  25000\n",
      "segment_key  -->  97519\n"
     ]
    }
   ],
   "source": [
    "for col in id_cols:\n",
    "  print(col, \" --> \", np.count_nonzero(df[col].unique()))"
   ]
  },
  {
   "cell_type": "code",
   "execution_count": 35,
   "metadata": {},
   "outputs": [],
   "source": [
    "df.drop(columns=[\"domain\"], inplace=True)"
   ]
  },
  {
   "cell_type": "code",
   "execution_count": 36,
   "metadata": {},
   "outputs": [
    {
     "data": {
      "text/html": [
       "<div>\n",
       "<style scoped>\n",
       "    .dataframe tbody tr th:only-of-type {\n",
       "        vertical-align: middle;\n",
       "    }\n",
       "\n",
       "    .dataframe tbody tr th {\n",
       "        vertical-align: top;\n",
       "    }\n",
       "\n",
       "    .dataframe thead th {\n",
       "        text-align: right;\n",
       "    }\n",
       "</style>\n",
       "<table border=\"1\" class=\"dataframe\">\n",
       "  <thead>\n",
       "    <tr style=\"text-align: right;\">\n",
       "      <th></th>\n",
       "      <th>bpp_id</th>\n",
       "      <th>bap_id</th>\n",
       "      <th>transaction_type</th>\n",
       "      <th>transaction_id</th>\n",
       "      <th>num_count</th>\n",
       "      <th>select_timestamp</th>\n",
       "      <th>std_code</th>\n",
       "      <th>provider_name</th>\n",
       "      <th>provider_id</th>\n",
       "      <th>segment_key</th>\n",
       "    </tr>\n",
       "  </thead>\n",
       "  <tbody>\n",
       "    <tr>\n",
       "      <th>0</th>\n",
       "      <td>webapi.magicpin.in/oms_partner/ondc</td>\n",
       "      <td>ondc-bap.olacabs.com</td>\n",
       "      <td>on_select</td>\n",
       "      <td>0001e709-5ed3-436c-8f34-c04c27174ca5</td>\n",
       "      <td>8</td>\n",
       "      <td>2024-05-29T22:38:52Z</td>\n",
       "      <td>std:080</td>\n",
       "      <td>Wow! Momo</td>\n",
       "      <td>46315883</td>\n",
       "      <td>0001e709-5ed3-436c-8f34-c04c27174ca5__46315883</td>\n",
       "    </tr>\n",
       "    <tr>\n",
       "      <th>1</th>\n",
       "      <td>webapi.magicpin.in/oms_partner/ondc</td>\n",
       "      <td>ondc-bap.olacabs.com</td>\n",
       "      <td>confirm</td>\n",
       "      <td>0001e709-5ed3-436c-8f34-c04c27174ca5</td>\n",
       "      <td>1</td>\n",
       "      <td>2024-05-29T22:38:52Z</td>\n",
       "      <td>std:080</td>\n",
       "      <td>Wow! Momo</td>\n",
       "      <td>46315883</td>\n",
       "      <td>0001e709-5ed3-436c-8f34-c04c27174ca5__46315883</td>\n",
       "    </tr>\n",
       "    <tr>\n",
       "      <th>2</th>\n",
       "      <td>webapi.magicpin.in/oms_partner/ondc</td>\n",
       "      <td>ondc-bap.olacabs.com</td>\n",
       "      <td>select</td>\n",
       "      <td>0001e709-5ed3-436c-8f34-c04c27174ca5</td>\n",
       "      <td>8</td>\n",
       "      <td>2024-05-29T22:38:52Z</td>\n",
       "      <td>std:080</td>\n",
       "      <td>Wow! Momo</td>\n",
       "      <td>46315883</td>\n",
       "      <td>0001e709-5ed3-436c-8f34-c04c27174ca5__46315883</td>\n",
       "    </tr>\n",
       "    <tr>\n",
       "      <th>3</th>\n",
       "      <td>webapi.magicpin.in/oms_partner/ondc</td>\n",
       "      <td>ondc-bap.olacabs.com</td>\n",
       "      <td>on_init</td>\n",
       "      <td>0001e709-5ed3-436c-8f34-c04c27174ca5</td>\n",
       "      <td>2</td>\n",
       "      <td>2024-05-29T22:38:52Z</td>\n",
       "      <td>std:080</td>\n",
       "      <td>Wow! Momo</td>\n",
       "      <td>46315883</td>\n",
       "      <td>0001e709-5ed3-436c-8f34-c04c27174ca5__46315883</td>\n",
       "    </tr>\n",
       "    <tr>\n",
       "      <th>4</th>\n",
       "      <td>webapi.magicpin.in/oms_partner/ondc</td>\n",
       "      <td>ondc-bap.olacabs.com</td>\n",
       "      <td>init</td>\n",
       "      <td>0001e709-5ed3-436c-8f34-c04c27174ca5</td>\n",
       "      <td>2</td>\n",
       "      <td>2024-05-29T22:38:52Z</td>\n",
       "      <td>std:080</td>\n",
       "      <td>Wow! Momo</td>\n",
       "      <td>46315883</td>\n",
       "      <td>0001e709-5ed3-436c-8f34-c04c27174ca5__46315883</td>\n",
       "    </tr>\n",
       "  </tbody>\n",
       "</table>\n",
       "</div>"
      ],
      "text/plain": [
       "                                bpp_id                bap_id transaction_type  \\\n",
       "0  webapi.magicpin.in/oms_partner/ondc  ondc-bap.olacabs.com        on_select   \n",
       "1  webapi.magicpin.in/oms_partner/ondc  ondc-bap.olacabs.com          confirm   \n",
       "2  webapi.magicpin.in/oms_partner/ondc  ondc-bap.olacabs.com           select   \n",
       "3  webapi.magicpin.in/oms_partner/ondc  ondc-bap.olacabs.com          on_init   \n",
       "4  webapi.magicpin.in/oms_partner/ondc  ondc-bap.olacabs.com             init   \n",
       "\n",
       "                         transaction_id  num_count      select_timestamp  \\\n",
       "0  0001e709-5ed3-436c-8f34-c04c27174ca5          8  2024-05-29T22:38:52Z   \n",
       "1  0001e709-5ed3-436c-8f34-c04c27174ca5          1  2024-05-29T22:38:52Z   \n",
       "2  0001e709-5ed3-436c-8f34-c04c27174ca5          8  2024-05-29T22:38:52Z   \n",
       "3  0001e709-5ed3-436c-8f34-c04c27174ca5          2  2024-05-29T22:38:52Z   \n",
       "4  0001e709-5ed3-436c-8f34-c04c27174ca5          2  2024-05-29T22:38:52Z   \n",
       "\n",
       "  std_code provider_name provider_id  \\\n",
       "0  std:080     Wow! Momo    46315883   \n",
       "1  std:080     Wow! Momo    46315883   \n",
       "2  std:080     Wow! Momo    46315883   \n",
       "3  std:080     Wow! Momo    46315883   \n",
       "4  std:080     Wow! Momo    46315883   \n",
       "\n",
       "                                      segment_key  \n",
       "0  0001e709-5ed3-436c-8f34-c04c27174ca5__46315883  \n",
       "1  0001e709-5ed3-436c-8f34-c04c27174ca5__46315883  \n",
       "2  0001e709-5ed3-436c-8f34-c04c27174ca5__46315883  \n",
       "3  0001e709-5ed3-436c-8f34-c04c27174ca5__46315883  \n",
       "4  0001e709-5ed3-436c-8f34-c04c27174ca5__46315883  "
      ]
     },
     "execution_count": 36,
     "metadata": {},
     "output_type": "execute_result"
    }
   ],
   "source": [
    "df.head(5)"
   ]
  },
  {
   "cell_type": "code",
   "execution_count": 37,
   "metadata": {},
   "outputs": [],
   "source": [
    "df_crosstab_segment = pd.crosstab(columns=df[\"transaction_type\"], index=df[\"segment_key\"])\n",
    "df_crosstab_segment = df_crosstab_segment.reset_index().rename_axis(None, axis=1)"
   ]
  },
  {
   "cell_type": "code",
   "execution_count": 38,
   "metadata": {},
   "outputs": [
    {
     "data": {
      "text/html": [
       "<div>\n",
       "<style scoped>\n",
       "    .dataframe tbody tr th:only-of-type {\n",
       "        vertical-align: middle;\n",
       "    }\n",
       "\n",
       "    .dataframe tbody tr th {\n",
       "        vertical-align: top;\n",
       "    }\n",
       "\n",
       "    .dataframe thead th {\n",
       "        text-align: right;\n",
       "    }\n",
       "</style>\n",
       "<table border=\"1\" class=\"dataframe\">\n",
       "  <thead>\n",
       "    <tr style=\"text-align: right;\">\n",
       "      <th></th>\n",
       "      <th>segment_key</th>\n",
       "      <th>confirm</th>\n",
       "      <th>init</th>\n",
       "      <th>on_confirm</th>\n",
       "      <th>on_init</th>\n",
       "      <th>on_select</th>\n",
       "      <th>select</th>\n",
       "    </tr>\n",
       "  </thead>\n",
       "  <tbody>\n",
       "    <tr>\n",
       "      <th>0</th>\n",
       "      <td>0001e709-5ed3-436c-8f34-c04c27174ca5__30647898</td>\n",
       "      <td>1</td>\n",
       "      <td>1</td>\n",
       "      <td>1</td>\n",
       "      <td>1</td>\n",
       "      <td>1</td>\n",
       "      <td>1</td>\n",
       "    </tr>\n",
       "    <tr>\n",
       "      <th>1</th>\n",
       "      <td>0001e709-5ed3-436c-8f34-c04c27174ca5__46315883</td>\n",
       "      <td>1</td>\n",
       "      <td>1</td>\n",
       "      <td>1</td>\n",
       "      <td>1</td>\n",
       "      <td>1</td>\n",
       "      <td>1</td>\n",
       "    </tr>\n",
       "    <tr>\n",
       "      <th>2</th>\n",
       "      <td>000471a5-ac92-42f8-9239-19575ed2e6d5__1462330</td>\n",
       "      <td>1</td>\n",
       "      <td>1</td>\n",
       "      <td>1</td>\n",
       "      <td>1</td>\n",
       "      <td>1</td>\n",
       "      <td>1</td>\n",
       "    </tr>\n",
       "    <tr>\n",
       "      <th>3</th>\n",
       "      <td>000471a5-ac92-42f8-9239-19575ed2e6d5__46107284</td>\n",
       "      <td>1</td>\n",
       "      <td>1</td>\n",
       "      <td>1</td>\n",
       "      <td>1</td>\n",
       "      <td>1</td>\n",
       "      <td>1</td>\n",
       "    </tr>\n",
       "    <tr>\n",
       "      <th>4</th>\n",
       "      <td>000471a5-ac92-42f8-9239-19575ed2e6d5__96296</td>\n",
       "      <td>1</td>\n",
       "      <td>1</td>\n",
       "      <td>1</td>\n",
       "      <td>1</td>\n",
       "      <td>1</td>\n",
       "      <td>1</td>\n",
       "    </tr>\n",
       "  </tbody>\n",
       "</table>\n",
       "</div>"
      ],
      "text/plain": [
       "                                      segment_key  confirm  init  on_confirm  \\\n",
       "0  0001e709-5ed3-436c-8f34-c04c27174ca5__30647898        1     1           1   \n",
       "1  0001e709-5ed3-436c-8f34-c04c27174ca5__46315883        1     1           1   \n",
       "2   000471a5-ac92-42f8-9239-19575ed2e6d5__1462330        1     1           1   \n",
       "3  000471a5-ac92-42f8-9239-19575ed2e6d5__46107284        1     1           1   \n",
       "4     000471a5-ac92-42f8-9239-19575ed2e6d5__96296        1     1           1   \n",
       "\n",
       "   on_init  on_select  select  \n",
       "0        1          1       1  \n",
       "1        1          1       1  \n",
       "2        1          1       1  \n",
       "3        1          1       1  \n",
       "4        1          1       1  "
      ]
     },
     "execution_count": 38,
     "metadata": {},
     "output_type": "execute_result"
    }
   ],
   "source": [
    "df_crosstab_segment.head(5)"
   ]
  },
  {
   "cell_type": "markdown",
   "metadata": {},
   "source": [
    "Transactions where confirm doesn't match with on-confirm"
   ]
  },
  {
   "cell_type": "code",
   "execution_count": 97,
   "metadata": {},
   "outputs": [],
   "source": [
    "def pair_mismatch(tgt_df: pd.DataFrame, src: str, tgt: str, srch_col:str = \"transaction_id\") -> list[str]:\n",
    "  \"\"\"\n",
    "  Returns a list of Transaction IDs where there is a pair mismatch for the given pair. \n",
    "  df = Pandas Dataframe. This should be a crosstab format dataframe. \n",
    "  src = Source Column. \n",
    "  tgt = Target Column.\n",
    "  srch_col = Column to return. Default is transaction_id.\n",
    "    \"\"\"\n",
    "  list_missing = list(tgt_df[tgt_df[src] != tgt_df[tgt]][srch_col])\n",
    "  return list_missing"
   ]
  },
  {
   "cell_type": "code",
   "execution_count": 40,
   "metadata": {},
   "outputs": [],
   "source": [
    "def mulitple_calls(tgt_df: pd.DataFrame, col_to_srch: str, srch_col: str = \"transaction_id\", occur: int = 1) -> list[str]:\n",
    "  \"\"\"\n",
    "  Returns a list of Transaction IDs if they have multiple instances.   \n",
    "  df = Pandas Dataframe. \n",
    "  col_to_srch = The column to perform the search operation in.\n",
    "  srch_col = The column to return. The default value is transaction_id. \n",
    "  occur = The number of occurances to search. Default value is 1. This will always search '> occur' instances. \n",
    "    \"\"\"\n",
    "  return list(tgt_df[tgt_df[col_to_srch] > occur][srch_col])"
   ]
  },
  {
   "cell_type": "markdown",
   "metadata": {},
   "source": [
    "Selecting Mismatch by Transaction_id"
   ]
  },
  {
   "cell_type": "markdown",
   "metadata": {},
   "source": [
    "Selecting Mismatch by Segment "
   ]
  },
  {
   "cell_type": "code",
   "execution_count": 41,
   "metadata": {},
   "outputs": [],
   "source": [
    "seg_select_mismatch = pair_mismatch(df_crosstab_segment, \"select\", \"on_select\", \"segment_key\")\n",
    "seg_init_mismatch = pair_mismatch(df_crosstab_segment, \"init\", \"on_init\", \"segment_key\")\n",
    "seg_confirm_mismatch = pair_mismatch(df_crosstab_segment, \"confirm\", \"on_confirm\", \"segment_key\")"
   ]
  },
  {
   "cell_type": "code",
   "execution_count": 42,
   "metadata": {},
   "outputs": [
    {
     "data": {
      "text/plain": [
       "['097e2056-5c48-4485-b6eb-e5d26bae47d8__39443',\n",
       " '097e2056-5c48-4485-b6eb-e5d26bae47d8__40009']"
      ]
     },
     "execution_count": 42,
     "metadata": {},
     "output_type": "execute_result"
    }
   ],
   "source": [
    "seg_init_mismatch[:2]"
   ]
  },
  {
   "cell_type": "markdown",
   "metadata": {},
   "source": [
    "## Removing all mismatches "
   ]
  },
  {
   "cell_type": "code",
   "execution_count": 47,
   "metadata": {},
   "outputs": [],
   "source": [
    "df_mismatch = df_crosstab_segment[df_crosstab_segment[\"segment_key\"].isin(seg_select_mismatch)]"
   ]
  },
  {
   "cell_type": "code",
   "execution_count": 48,
   "metadata": {},
   "outputs": [
    {
     "name": "stderr",
     "output_type": "stream",
     "text": [
      "C:\\Users\\shash\\AppData\\Local\\Temp\\ipykernel_17812\\3331886179.py:1: SettingWithCopyWarning: \n",
      "A value is trying to be set on a copy of a slice from a DataFrame.\n",
      "Try using .loc[row_indexer,col_indexer] = value instead\n",
      "\n",
      "See the caveats in the documentation: https://pandas.pydata.org/pandas-docs/stable/user_guide/indexing.html#returning-a-view-versus-a-copy\n",
      "  df_mismatch[\"err_col\"] = \"select\"\n"
     ]
    }
   ],
   "source": [
    "df_mismatch[\"err_col\"] = \"select\""
   ]
  },
  {
   "cell_type": "code",
   "execution_count": 49,
   "metadata": {},
   "outputs": [],
   "source": [
    "df_mismatch = pd.concat([df_mismatch, df_crosstab_segment[df_crosstab_segment[\"segment_key\"].isin(seg_init_mismatch)]])"
   ]
  },
  {
   "cell_type": "code",
   "execution_count": 50,
   "metadata": {},
   "outputs": [
    {
     "name": "stderr",
     "output_type": "stream",
     "text": [
      "C:\\Users\\shash\\AppData\\Local\\Temp\\ipykernel_17812\\1535198746.py:1: FutureWarning: A value is trying to be set on a copy of a DataFrame or Series through chained assignment using an inplace method.\n",
      "The behavior will change in pandas 3.0. This inplace method will never work because the intermediate object on which we are setting values always behaves as a copy.\n",
      "\n",
      "For example, when doing 'df[col].method(value, inplace=True)', try using 'df.method({col: value}, inplace=True)' or df[col] = df[col].method(value) instead, to perform the operation inplace on the original object.\n",
      "\n",
      "\n",
      "  df_mismatch.loc[:,\"err_col\"].fillna(value=\"init\", inplace=True)\n"
     ]
    }
   ],
   "source": [
    "df_mismatch.loc[:,\"err_col\"].fillna(value=\"init\", inplace=True)"
   ]
  },
  {
   "cell_type": "code",
   "execution_count": 51,
   "metadata": {},
   "outputs": [],
   "source": [
    "df_mismatch = pd.concat([df_mismatch, df_crosstab_segment[df_crosstab_segment[\"segment_key\"].isin(seg_confirm_mismatch)]])"
   ]
  },
  {
   "cell_type": "code",
   "execution_count": 52,
   "metadata": {},
   "outputs": [
    {
     "name": "stderr",
     "output_type": "stream",
     "text": [
      "C:\\Users\\shash\\AppData\\Local\\Temp\\ipykernel_17812\\3979439572.py:1: FutureWarning: A value is trying to be set on a copy of a DataFrame or Series through chained assignment using an inplace method.\n",
      "The behavior will change in pandas 3.0. This inplace method will never work because the intermediate object on which we are setting values always behaves as a copy.\n",
      "\n",
      "For example, when doing 'df[col].method(value, inplace=True)', try using 'df.method({col: value}, inplace=True)' or df[col] = df[col].method(value) instead, to perform the operation inplace on the original object.\n",
      "\n",
      "\n",
      "  df_mismatch.loc[:,\"err_col\"].fillna(value=\"confirm\", inplace=True)\n"
     ]
    }
   ],
   "source": [
    "df_mismatch.loc[:,\"err_col\"].fillna(value=\"confirm\", inplace=True)"
   ]
  },
  {
   "cell_type": "code",
   "execution_count": 53,
   "metadata": {},
   "outputs": [],
   "source": [
    "df_mismatch.reset_index(drop=True, inplace=True)"
   ]
  },
  {
   "cell_type": "code",
   "execution_count": 54,
   "metadata": {},
   "outputs": [],
   "source": [
    "df_mismatch[\"transaction_id\"] = df_mismatch[\"segment_key\"].str.split(\"__\",expand=True)[0]"
   ]
  },
  {
   "cell_type": "code",
   "execution_count": 55,
   "metadata": {},
   "outputs": [],
   "source": [
    "df_mismatch[\"provider_id\"] =df_mismatch[\"segment_key\"].str.split(\"__\",expand=True)[1]"
   ]
  },
  {
   "cell_type": "code",
   "execution_count": 56,
   "metadata": {},
   "outputs": [],
   "source": [
    "# df_mismatch.drop(columns=\"segment_key\", inplace=True)"
   ]
  },
  {
   "cell_type": "code",
   "execution_count": 57,
   "metadata": {},
   "outputs": [
    {
     "data": {
      "text/html": [
       "<div>\n",
       "<style scoped>\n",
       "    .dataframe tbody tr th:only-of-type {\n",
       "        vertical-align: middle;\n",
       "    }\n",
       "\n",
       "    .dataframe tbody tr th {\n",
       "        vertical-align: top;\n",
       "    }\n",
       "\n",
       "    .dataframe thead th {\n",
       "        text-align: right;\n",
       "    }\n",
       "</style>\n",
       "<table border=\"1\" class=\"dataframe\">\n",
       "  <thead>\n",
       "    <tr style=\"text-align: right;\">\n",
       "      <th></th>\n",
       "      <th>segment_key</th>\n",
       "      <th>confirm</th>\n",
       "      <th>init</th>\n",
       "      <th>on_confirm</th>\n",
       "      <th>on_init</th>\n",
       "      <th>on_select</th>\n",
       "      <th>select</th>\n",
       "      <th>err_col</th>\n",
       "      <th>transaction_id</th>\n",
       "      <th>provider_id</th>\n",
       "    </tr>\n",
       "  </thead>\n",
       "  <tbody>\n",
       "    <tr>\n",
       "      <th>0</th>\n",
       "      <td>02027099-48e0-4626-90ac-db8c892cfa62__65982</td>\n",
       "      <td>0</td>\n",
       "      <td>0</td>\n",
       "      <td>0</td>\n",
       "      <td>0</td>\n",
       "      <td>0</td>\n",
       "      <td>1</td>\n",
       "      <td>select</td>\n",
       "      <td>02027099-48e0-4626-90ac-db8c892cfa62</td>\n",
       "      <td>65982</td>\n",
       "    </tr>\n",
       "    <tr>\n",
       "      <th>1</th>\n",
       "      <td>03fed2b3-1bc6-4aba-8f18-900160feb9ab__63892</td>\n",
       "      <td>0</td>\n",
       "      <td>0</td>\n",
       "      <td>0</td>\n",
       "      <td>0</td>\n",
       "      <td>0</td>\n",
       "      <td>1</td>\n",
       "      <td>select</td>\n",
       "      <td>03fed2b3-1bc6-4aba-8f18-900160feb9ab</td>\n",
       "      <td>63892</td>\n",
       "    </tr>\n",
       "    <tr>\n",
       "      <th>2</th>\n",
       "      <td>0643de86-8d63-4f48-a6a0-1df411796889__GFFBRTBI...</td>\n",
       "      <td>0</td>\n",
       "      <td>0</td>\n",
       "      <td>0</td>\n",
       "      <td>0</td>\n",
       "      <td>0</td>\n",
       "      <td>1</td>\n",
       "      <td>select</td>\n",
       "      <td>0643de86-8d63-4f48-a6a0-1df411796889</td>\n",
       "      <td>GFFBRTBI1692777668</td>\n",
       "    </tr>\n",
       "    <tr>\n",
       "      <th>3</th>\n",
       "      <td>0643de86-8d63-4f48-a6a0-1df411796889__GFFBRTBI...</td>\n",
       "      <td>0</td>\n",
       "      <td>0</td>\n",
       "      <td>0</td>\n",
       "      <td>0</td>\n",
       "      <td>0</td>\n",
       "      <td>1</td>\n",
       "      <td>select</td>\n",
       "      <td>0643de86-8d63-4f48-a6a0-1df411796889</td>\n",
       "      <td>GFFBRTBI1692777699</td>\n",
       "    </tr>\n",
       "    <tr>\n",
       "      <th>4</th>\n",
       "      <td>0643de86-8d63-4f48-a6a0-1df411796889__GFFBRTHY...</td>\n",
       "      <td>0</td>\n",
       "      <td>0</td>\n",
       "      <td>0</td>\n",
       "      <td>0</td>\n",
       "      <td>0</td>\n",
       "      <td>1</td>\n",
       "      <td>select</td>\n",
       "      <td>0643de86-8d63-4f48-a6a0-1df411796889</td>\n",
       "      <td>GFFBRTHY1695967001</td>\n",
       "    </tr>\n",
       "  </tbody>\n",
       "</table>\n",
       "</div>"
      ],
      "text/plain": [
       "                                         segment_key  confirm  init  \\\n",
       "0        02027099-48e0-4626-90ac-db8c892cfa62__65982        0     0   \n",
       "1        03fed2b3-1bc6-4aba-8f18-900160feb9ab__63892        0     0   \n",
       "2  0643de86-8d63-4f48-a6a0-1df411796889__GFFBRTBI...        0     0   \n",
       "3  0643de86-8d63-4f48-a6a0-1df411796889__GFFBRTBI...        0     0   \n",
       "4  0643de86-8d63-4f48-a6a0-1df411796889__GFFBRTHY...        0     0   \n",
       "\n",
       "   on_confirm  on_init  on_select  select err_col  \\\n",
       "0           0        0          0       1  select   \n",
       "1           0        0          0       1  select   \n",
       "2           0        0          0       1  select   \n",
       "3           0        0          0       1  select   \n",
       "4           0        0          0       1  select   \n",
       "\n",
       "                         transaction_id         provider_id  \n",
       "0  02027099-48e0-4626-90ac-db8c892cfa62               65982  \n",
       "1  03fed2b3-1bc6-4aba-8f18-900160feb9ab               63892  \n",
       "2  0643de86-8d63-4f48-a6a0-1df411796889  GFFBRTBI1692777668  \n",
       "3  0643de86-8d63-4f48-a6a0-1df411796889  GFFBRTBI1692777699  \n",
       "4  0643de86-8d63-4f48-a6a0-1df411796889  GFFBRTHY1695967001  "
      ]
     },
     "execution_count": 57,
     "metadata": {},
     "output_type": "execute_result"
    }
   ],
   "source": [
    "df_mismatch.head(5)"
   ]
  },
  {
   "cell_type": "code",
   "execution_count": 58,
   "metadata": {},
   "outputs": [],
   "source": [
    "df_mismatch_final = df_mismatch[[\"provider_id\", \"transaction_id\", \"err_col\"]]"
   ]
  },
  {
   "cell_type": "code",
   "execution_count": 59,
   "metadata": {},
   "outputs": [
    {
     "data": {
      "text/html": [
       "<div>\n",
       "<style scoped>\n",
       "    .dataframe tbody tr th:only-of-type {\n",
       "        vertical-align: middle;\n",
       "    }\n",
       "\n",
       "    .dataframe tbody tr th {\n",
       "        vertical-align: top;\n",
       "    }\n",
       "\n",
       "    .dataframe thead th {\n",
       "        text-align: right;\n",
       "    }\n",
       "</style>\n",
       "<table border=\"1\" class=\"dataframe\">\n",
       "  <thead>\n",
       "    <tr style=\"text-align: right;\">\n",
       "      <th></th>\n",
       "      <th>provider_id</th>\n",
       "      <th>transaction_id</th>\n",
       "      <th>err_col</th>\n",
       "    </tr>\n",
       "  </thead>\n",
       "  <tbody>\n",
       "    <tr>\n",
       "      <th>0</th>\n",
       "      <td>65982</td>\n",
       "      <td>02027099-48e0-4626-90ac-db8c892cfa62</td>\n",
       "      <td>select</td>\n",
       "    </tr>\n",
       "    <tr>\n",
       "      <th>1</th>\n",
       "      <td>63892</td>\n",
       "      <td>03fed2b3-1bc6-4aba-8f18-900160feb9ab</td>\n",
       "      <td>select</td>\n",
       "    </tr>\n",
       "    <tr>\n",
       "      <th>2</th>\n",
       "      <td>GFFBRTBI1692777668</td>\n",
       "      <td>0643de86-8d63-4f48-a6a0-1df411796889</td>\n",
       "      <td>select</td>\n",
       "    </tr>\n",
       "    <tr>\n",
       "      <th>3</th>\n",
       "      <td>GFFBRTBI1692777699</td>\n",
       "      <td>0643de86-8d63-4f48-a6a0-1df411796889</td>\n",
       "      <td>select</td>\n",
       "    </tr>\n",
       "    <tr>\n",
       "      <th>4</th>\n",
       "      <td>GFFBRTHY1695967001</td>\n",
       "      <td>0643de86-8d63-4f48-a6a0-1df411796889</td>\n",
       "      <td>select</td>\n",
       "    </tr>\n",
       "  </tbody>\n",
       "</table>\n",
       "</div>"
      ],
      "text/plain": [
       "          provider_id                        transaction_id err_col\n",
       "0               65982  02027099-48e0-4626-90ac-db8c892cfa62  select\n",
       "1               63892  03fed2b3-1bc6-4aba-8f18-900160feb9ab  select\n",
       "2  GFFBRTBI1692777668  0643de86-8d63-4f48-a6a0-1df411796889  select\n",
       "3  GFFBRTBI1692777699  0643de86-8d63-4f48-a6a0-1df411796889  select\n",
       "4  GFFBRTHY1695967001  0643de86-8d63-4f48-a6a0-1df411796889  select"
      ]
     },
     "execution_count": 59,
     "metadata": {},
     "output_type": "execute_result"
    }
   ],
   "source": [
    "df_mismatch_final.head(5)"
   ]
  },
  {
   "cell_type": "code",
   "execution_count": null,
   "metadata": {},
   "outputs": [],
   "source": [
    "# write_to_pg(\"tr_fun\", \"error_data\", pg_conn, df_mismatch)"
   ]
  },
  {
   "cell_type": "markdown",
   "metadata": {},
   "source": [
    "## Error Data Removed"
   ]
  },
  {
   "cell_type": "code",
   "execution_count": 60,
   "metadata": {},
   "outputs": [],
   "source": [
    "err_seg_ids = df_mismatch[\"segment_key\"].unique()"
   ]
  },
  {
   "cell_type": "code",
   "execution_count": 61,
   "metadata": {},
   "outputs": [
    {
     "data": {
      "text/plain": [
       "195"
      ]
     },
     "execution_count": 61,
     "metadata": {},
     "output_type": "execute_result"
    }
   ],
   "source": [
    "np.count_nonzero(df_mismatch[\"segment_key\"].unique())"
   ]
  },
  {
   "cell_type": "code",
   "execution_count": 62,
   "metadata": {},
   "outputs": [
    {
     "data": {
      "text/plain": [
       "97323"
      ]
     },
     "execution_count": 62,
     "metadata": {},
     "output_type": "execute_result"
    }
   ],
   "source": [
    "df_crosstab_segment.shape[0] - np.count_nonzero(df_mismatch[\"segment_key\"].unique())"
   ]
  },
  {
   "cell_type": "code",
   "execution_count": 63,
   "metadata": {},
   "outputs": [
    {
     "data": {
      "text/plain": [
       "97518"
      ]
     },
     "execution_count": 63,
     "metadata": {},
     "output_type": "execute_result"
    }
   ],
   "source": [
    "np.count_nonzero(df_crosstab_segment[\"segment_key\"].unique())"
   ]
  },
  {
   "cell_type": "code",
   "execution_count": 64,
   "metadata": {},
   "outputs": [],
   "source": [
    "df_final = df_crosstab_segment[~df_crosstab_segment[\"segment_key\"].isin(err_seg_ids)]"
   ]
  },
  {
   "cell_type": "code",
   "execution_count": 65,
   "metadata": {},
   "outputs": [
    {
     "data": {
      "text/html": [
       "<div>\n",
       "<style scoped>\n",
       "    .dataframe tbody tr th:only-of-type {\n",
       "        vertical-align: middle;\n",
       "    }\n",
       "\n",
       "    .dataframe tbody tr th {\n",
       "        vertical-align: top;\n",
       "    }\n",
       "\n",
       "    .dataframe thead th {\n",
       "        text-align: right;\n",
       "    }\n",
       "</style>\n",
       "<table border=\"1\" class=\"dataframe\">\n",
       "  <thead>\n",
       "    <tr style=\"text-align: right;\">\n",
       "      <th></th>\n",
       "      <th>segment_key</th>\n",
       "      <th>confirm</th>\n",
       "      <th>init</th>\n",
       "      <th>on_confirm</th>\n",
       "      <th>on_init</th>\n",
       "      <th>on_select</th>\n",
       "      <th>select</th>\n",
       "    </tr>\n",
       "  </thead>\n",
       "  <tbody>\n",
       "    <tr>\n",
       "      <th>0</th>\n",
       "      <td>0001e709-5ed3-436c-8f34-c04c27174ca5__30647898</td>\n",
       "      <td>1</td>\n",
       "      <td>1</td>\n",
       "      <td>1</td>\n",
       "      <td>1</td>\n",
       "      <td>1</td>\n",
       "      <td>1</td>\n",
       "    </tr>\n",
       "    <tr>\n",
       "      <th>1</th>\n",
       "      <td>0001e709-5ed3-436c-8f34-c04c27174ca5__46315883</td>\n",
       "      <td>1</td>\n",
       "      <td>1</td>\n",
       "      <td>1</td>\n",
       "      <td>1</td>\n",
       "      <td>1</td>\n",
       "      <td>1</td>\n",
       "    </tr>\n",
       "    <tr>\n",
       "      <th>2</th>\n",
       "      <td>000471a5-ac92-42f8-9239-19575ed2e6d5__1462330</td>\n",
       "      <td>1</td>\n",
       "      <td>1</td>\n",
       "      <td>1</td>\n",
       "      <td>1</td>\n",
       "      <td>1</td>\n",
       "      <td>1</td>\n",
       "    </tr>\n",
       "    <tr>\n",
       "      <th>3</th>\n",
       "      <td>000471a5-ac92-42f8-9239-19575ed2e6d5__46107284</td>\n",
       "      <td>1</td>\n",
       "      <td>1</td>\n",
       "      <td>1</td>\n",
       "      <td>1</td>\n",
       "      <td>1</td>\n",
       "      <td>1</td>\n",
       "    </tr>\n",
       "    <tr>\n",
       "      <th>4</th>\n",
       "      <td>000471a5-ac92-42f8-9239-19575ed2e6d5__96296</td>\n",
       "      <td>1</td>\n",
       "      <td>1</td>\n",
       "      <td>1</td>\n",
       "      <td>1</td>\n",
       "      <td>1</td>\n",
       "      <td>1</td>\n",
       "    </tr>\n",
       "    <tr>\n",
       "      <th>...</th>\n",
       "      <td>...</td>\n",
       "      <td>...</td>\n",
       "      <td>...</td>\n",
       "      <td>...</td>\n",
       "      <td>...</td>\n",
       "      <td>...</td>\n",
       "      <td>...</td>\n",
       "    </tr>\n",
       "    <tr>\n",
       "      <th>97318</th>\n",
       "      <td>fffe67f2-a60d-4201-bf75-9a97ab133c22__26992504</td>\n",
       "      <td>1</td>\n",
       "      <td>1</td>\n",
       "      <td>1</td>\n",
       "      <td>1</td>\n",
       "      <td>1</td>\n",
       "      <td>1</td>\n",
       "    </tr>\n",
       "    <tr>\n",
       "      <th>97319</th>\n",
       "      <td>fffe67f2-a60d-4201-bf75-9a97ab133c22__34476436</td>\n",
       "      <td>1</td>\n",
       "      <td>1</td>\n",
       "      <td>1</td>\n",
       "      <td>1</td>\n",
       "      <td>1</td>\n",
       "      <td>1</td>\n",
       "    </tr>\n",
       "    <tr>\n",
       "      <th>97320</th>\n",
       "      <td>fffe67f2-a60d-4201-bf75-9a97ab133c22__40773335</td>\n",
       "      <td>1</td>\n",
       "      <td>1</td>\n",
       "      <td>1</td>\n",
       "      <td>1</td>\n",
       "      <td>1</td>\n",
       "      <td>1</td>\n",
       "    </tr>\n",
       "    <tr>\n",
       "      <th>97321</th>\n",
       "      <td>fffe67f2-a60d-4201-bf75-9a97ab133c22__46570658</td>\n",
       "      <td>1</td>\n",
       "      <td>1</td>\n",
       "      <td>1</td>\n",
       "      <td>1</td>\n",
       "      <td>1</td>\n",
       "      <td>1</td>\n",
       "    </tr>\n",
       "    <tr>\n",
       "      <th>97322</th>\n",
       "      <td>fffe67f2-a60d-4201-bf75-9a97ab133c22__9442</td>\n",
       "      <td>0</td>\n",
       "      <td>0</td>\n",
       "      <td>0</td>\n",
       "      <td>0</td>\n",
       "      <td>1</td>\n",
       "      <td>1</td>\n",
       "    </tr>\n",
       "  </tbody>\n",
       "</table>\n",
       "<p>97323 rows × 7 columns</p>\n",
       "</div>"
      ],
      "text/plain": [
       "                                          segment_key  confirm  init  \\\n",
       "0      0001e709-5ed3-436c-8f34-c04c27174ca5__30647898        1     1   \n",
       "1      0001e709-5ed3-436c-8f34-c04c27174ca5__46315883        1     1   \n",
       "2       000471a5-ac92-42f8-9239-19575ed2e6d5__1462330        1     1   \n",
       "3      000471a5-ac92-42f8-9239-19575ed2e6d5__46107284        1     1   \n",
       "4         000471a5-ac92-42f8-9239-19575ed2e6d5__96296        1     1   \n",
       "...                                               ...      ...   ...   \n",
       "97318  fffe67f2-a60d-4201-bf75-9a97ab133c22__26992504        1     1   \n",
       "97319  fffe67f2-a60d-4201-bf75-9a97ab133c22__34476436        1     1   \n",
       "97320  fffe67f2-a60d-4201-bf75-9a97ab133c22__40773335        1     1   \n",
       "97321  fffe67f2-a60d-4201-bf75-9a97ab133c22__46570658        1     1   \n",
       "97322      fffe67f2-a60d-4201-bf75-9a97ab133c22__9442        0     0   \n",
       "\n",
       "       on_confirm  on_init  on_select  select  \n",
       "0               1        1          1       1  \n",
       "1               1        1          1       1  \n",
       "2               1        1          1       1  \n",
       "3               1        1          1       1  \n",
       "4               1        1          1       1  \n",
       "...           ...      ...        ...     ...  \n",
       "97318           1        1          1       1  \n",
       "97319           1        1          1       1  \n",
       "97320           1        1          1       1  \n",
       "97321           1        1          1       1  \n",
       "97322           0        0          1       1  \n",
       "\n",
       "[97323 rows x 7 columns]"
      ]
     },
     "execution_count": 65,
     "metadata": {},
     "output_type": "execute_result"
    }
   ],
   "source": [
    "df_final.reset_index(drop=True)"
   ]
  },
  {
   "cell_type": "markdown",
   "metadata": {},
   "source": [
    "### Funnel Analysis on Final Dataframe"
   ]
  },
  {
   "cell_type": "markdown",
   "metadata": {},
   "source": [
    "remove the transaction_id of df_mismatch from df"
   ]
  },
  {
   "cell_type": "code",
   "execution_count": 75,
   "metadata": {},
   "outputs": [],
   "source": [
    "rem_tr_id = df_mismatch[\"transaction_id\"].unique()"
   ]
  },
  {
   "cell_type": "code",
   "execution_count": 76,
   "metadata": {},
   "outputs": [],
   "source": [
    "df_funnel = df[~df[\"transaction_id\"].isin(rem_tr_id)]"
   ]
  },
  {
   "cell_type": "code",
   "execution_count": 78,
   "metadata": {},
   "outputs": [],
   "source": [
    "df_funnel.reset_index(drop=True, inplace=True)"
   ]
  },
  {
   "cell_type": "code",
   "execution_count": 103,
   "metadata": {},
   "outputs": [],
   "source": [
    "df_funnel.to_parquet(\"clean_data_funnel.parquet\")"
   ]
  },
  {
   "cell_type": "code",
   "execution_count": 101,
   "metadata": {},
   "outputs": [],
   "source": [
    "df_funnel_crosstab = pd.crosstab(columns=df_funnel[\"transaction_type\"], index=df_funnel[\"segment_key\"]).reset_index().rename_axis(None, axis=1)"
   ]
  },
  {
   "cell_type": "code",
   "execution_count": 104,
   "metadata": {},
   "outputs": [],
   "source": [
    "df_funnel_crosstab.to_parquet(\"clean_data_funnel_crosstab.parquet\")"
   ]
  }
 ],
 "metadata": {
  "kernelspec": {
   "display_name": ".venv",
   "language": "python",
   "name": "python3"
  },
  "language_info": {
   "codemirror_mode": {
    "name": "ipython",
    "version": 3
   },
   "file_extension": ".py",
   "mimetype": "text/x-python",
   "name": "python",
   "nbconvert_exporter": "python",
   "pygments_lexer": "ipython3",
   "version": "3.12.3"
  }
 },
 "nbformat": 4,
 "nbformat_minor": 2
}
