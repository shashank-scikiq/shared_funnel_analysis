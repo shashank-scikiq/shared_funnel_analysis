{
 "cells": [
  {
   "cell_type": "code",
   "execution_count": 1,
   "metadata": {},
   "outputs": [],
   "source": [
    "import pandas as pd\n",
    "import seaborn as sns\n",
    "from pandas.api.types import CategoricalDtype"
   ]
  },
  {
   "cell_type": "code",
   "execution_count": 2,
   "metadata": {},
   "outputs": [],
   "source": [
    "import scipy.stats as stats\n",
    "from scipy.stats import ttest_ind, f_oneway\n",
    "import statsmodels.api as sm"
   ]
  },
  {
   "cell_type": "code",
   "execution_count": 3,
   "metadata": {},
   "outputs": [],
   "source": [
    "df = pd.read_parquet(\"clean_data_funnel.parquet\")"
   ]
  },
  {
   "cell_type": "code",
   "execution_count": 4,
   "metadata": {},
   "outputs": [],
   "source": [
    "df.to_excel(\"clean_data_funnel.xlsx\")"
   ]
  },
  {
   "cell_type": "code",
   "execution_count": 5,
   "metadata": {},
   "outputs": [],
   "source": [
    "# Pivot the DataFrame to track the statuses for each transaction_id\n",
    "pivot_df = df.pivot_table(index='transaction_id', columns='transaction_type', values='num_count', aggfunc='size', fill_value=0)\n",
    "\n",
    "# Define the funnel stages\n",
    "funnel_stages = ['select', 'init', 'confirm']"
   ]
  },
  {
   "cell_type": "code",
   "execution_count": 6,
   "metadata": {},
   "outputs": [],
   "source": [
    "# Check how many transactions successfully transition through each stage\n",
    "def check_progression(row, stages):\n",
    "    for stage in stages:\n",
    "        if row.get(stage, 0) == 0:\n",
    "            return False\n",
    "    return True\n",
    "\n",
    "pivot_df['progression'] = pivot_df.apply(lambda row: check_progression(row, funnel_stages), axis=1)\n",
    "\n",
    "# Count transactions at each stage\n",
    "stage_counts = {stage: pivot_df[pivot_df[stage] > 0].shape[0] for stage in funnel_stages}\n",
    "completed_transactions = pivot_df['progression'].sum()\n",
    "\n",
    "# Identify drop-off points\n",
    "drop_offs = {stage: stage_counts[funnel_stages[i]] - stage_counts[funnel_stages[i+1]] for i, stage in enumerate(funnel_stages[:-1])}"
   ]
  },
  {
   "cell_type": "code",
   "execution_count": 7,
   "metadata": {},
   "outputs": [],
   "source": [
    "# Merge the pivoted data back with the original DataFrame to access additional columns\n",
    "merged_df = df.merge(pivot_df.reset_index(), on='transaction_id')"
   ]
  },
  {
   "cell_type": "code",
   "execution_count": 8,
   "metadata": {},
   "outputs": [
    {
     "data": {
      "text/html": [
       "<div>\n",
       "<style scoped>\n",
       "    .dataframe tbody tr th:only-of-type {\n",
       "        vertical-align: middle;\n",
       "    }\n",
       "\n",
       "    .dataframe tbody tr th {\n",
       "        vertical-align: top;\n",
       "    }\n",
       "\n",
       "    .dataframe thead th {\n",
       "        text-align: right;\n",
       "    }\n",
       "</style>\n",
       "<table border=\"1\" class=\"dataframe\">\n",
       "  <thead>\n",
       "    <tr style=\"text-align: right;\">\n",
       "      <th></th>\n",
       "      <th>bpp_id</th>\n",
       "      <th>bap_id</th>\n",
       "      <th>transaction_type</th>\n",
       "      <th>transaction_id</th>\n",
       "      <th>num_count</th>\n",
       "      <th>select_timestamp</th>\n",
       "      <th>std_code</th>\n",
       "      <th>provider_name</th>\n",
       "      <th>provider_id</th>\n",
       "      <th>segment_key</th>\n",
       "      <th>confirm</th>\n",
       "      <th>init</th>\n",
       "      <th>on_confirm</th>\n",
       "      <th>on_init</th>\n",
       "      <th>on_select</th>\n",
       "      <th>select</th>\n",
       "      <th>progression</th>\n",
       "    </tr>\n",
       "  </thead>\n",
       "  <tbody>\n",
       "    <tr>\n",
       "      <th>0</th>\n",
       "      <td>webapi.magicpin.in/oms_partner/ondc</td>\n",
       "      <td>ondc-bap.olacabs.com</td>\n",
       "      <td>on_select</td>\n",
       "      <td>0001e709-5ed3-436c-8f34-c04c27174ca5</td>\n",
       "      <td>8</td>\n",
       "      <td>2024-05-29T22:38:52Z</td>\n",
       "      <td>std:080</td>\n",
       "      <td>Wow! Momo</td>\n",
       "      <td>46315883</td>\n",
       "      <td>0001e709-5ed3-436c-8f34-c04c27174ca5__46315883</td>\n",
       "      <td>2</td>\n",
       "      <td>2</td>\n",
       "      <td>2</td>\n",
       "      <td>2</td>\n",
       "      <td>2</td>\n",
       "      <td>2</td>\n",
       "      <td>True</td>\n",
       "    </tr>\n",
       "    <tr>\n",
       "      <th>1</th>\n",
       "      <td>webapi.magicpin.in/oms_partner/ondc</td>\n",
       "      <td>ondc-bap.olacabs.com</td>\n",
       "      <td>confirm</td>\n",
       "      <td>0001e709-5ed3-436c-8f34-c04c27174ca5</td>\n",
       "      <td>1</td>\n",
       "      <td>2024-05-29T22:38:52Z</td>\n",
       "      <td>std:080</td>\n",
       "      <td>Wow! Momo</td>\n",
       "      <td>46315883</td>\n",
       "      <td>0001e709-5ed3-436c-8f34-c04c27174ca5__46315883</td>\n",
       "      <td>2</td>\n",
       "      <td>2</td>\n",
       "      <td>2</td>\n",
       "      <td>2</td>\n",
       "      <td>2</td>\n",
       "      <td>2</td>\n",
       "      <td>True</td>\n",
       "    </tr>\n",
       "    <tr>\n",
       "      <th>2</th>\n",
       "      <td>webapi.magicpin.in/oms_partner/ondc</td>\n",
       "      <td>ondc-bap.olacabs.com</td>\n",
       "      <td>select</td>\n",
       "      <td>0001e709-5ed3-436c-8f34-c04c27174ca5</td>\n",
       "      <td>8</td>\n",
       "      <td>2024-05-29T22:38:52Z</td>\n",
       "      <td>std:080</td>\n",
       "      <td>Wow! Momo</td>\n",
       "      <td>46315883</td>\n",
       "      <td>0001e709-5ed3-436c-8f34-c04c27174ca5__46315883</td>\n",
       "      <td>2</td>\n",
       "      <td>2</td>\n",
       "      <td>2</td>\n",
       "      <td>2</td>\n",
       "      <td>2</td>\n",
       "      <td>2</td>\n",
       "      <td>True</td>\n",
       "    </tr>\n",
       "    <tr>\n",
       "      <th>3</th>\n",
       "      <td>webapi.magicpin.in/oms_partner/ondc</td>\n",
       "      <td>ondc-bap.olacabs.com</td>\n",
       "      <td>on_init</td>\n",
       "      <td>0001e709-5ed3-436c-8f34-c04c27174ca5</td>\n",
       "      <td>2</td>\n",
       "      <td>2024-05-29T22:38:52Z</td>\n",
       "      <td>std:080</td>\n",
       "      <td>Wow! Momo</td>\n",
       "      <td>46315883</td>\n",
       "      <td>0001e709-5ed3-436c-8f34-c04c27174ca5__46315883</td>\n",
       "      <td>2</td>\n",
       "      <td>2</td>\n",
       "      <td>2</td>\n",
       "      <td>2</td>\n",
       "      <td>2</td>\n",
       "      <td>2</td>\n",
       "      <td>True</td>\n",
       "    </tr>\n",
       "    <tr>\n",
       "      <th>4</th>\n",
       "      <td>webapi.magicpin.in/oms_partner/ondc</td>\n",
       "      <td>ondc-bap.olacabs.com</td>\n",
       "      <td>init</td>\n",
       "      <td>0001e709-5ed3-436c-8f34-c04c27174ca5</td>\n",
       "      <td>2</td>\n",
       "      <td>2024-05-29T22:38:52Z</td>\n",
       "      <td>std:080</td>\n",
       "      <td>Wow! Momo</td>\n",
       "      <td>46315883</td>\n",
       "      <td>0001e709-5ed3-436c-8f34-c04c27174ca5__46315883</td>\n",
       "      <td>2</td>\n",
       "      <td>2</td>\n",
       "      <td>2</td>\n",
       "      <td>2</td>\n",
       "      <td>2</td>\n",
       "      <td>2</td>\n",
       "      <td>True</td>\n",
       "    </tr>\n",
       "  </tbody>\n",
       "</table>\n",
       "</div>"
      ],
      "text/plain": [
       "                                bpp_id                bap_id transaction_type  \\\n",
       "0  webapi.magicpin.in/oms_partner/ondc  ondc-bap.olacabs.com        on_select   \n",
       "1  webapi.magicpin.in/oms_partner/ondc  ondc-bap.olacabs.com          confirm   \n",
       "2  webapi.magicpin.in/oms_partner/ondc  ondc-bap.olacabs.com           select   \n",
       "3  webapi.magicpin.in/oms_partner/ondc  ondc-bap.olacabs.com          on_init   \n",
       "4  webapi.magicpin.in/oms_partner/ondc  ondc-bap.olacabs.com             init   \n",
       "\n",
       "                         transaction_id  num_count      select_timestamp  \\\n",
       "0  0001e709-5ed3-436c-8f34-c04c27174ca5          8  2024-05-29T22:38:52Z   \n",
       "1  0001e709-5ed3-436c-8f34-c04c27174ca5          1  2024-05-29T22:38:52Z   \n",
       "2  0001e709-5ed3-436c-8f34-c04c27174ca5          8  2024-05-29T22:38:52Z   \n",
       "3  0001e709-5ed3-436c-8f34-c04c27174ca5          2  2024-05-29T22:38:52Z   \n",
       "4  0001e709-5ed3-436c-8f34-c04c27174ca5          2  2024-05-29T22:38:52Z   \n",
       "\n",
       "  std_code provider_name provider_id  \\\n",
       "0  std:080     Wow! Momo    46315883   \n",
       "1  std:080     Wow! Momo    46315883   \n",
       "2  std:080     Wow! Momo    46315883   \n",
       "3  std:080     Wow! Momo    46315883   \n",
       "4  std:080     Wow! Momo    46315883   \n",
       "\n",
       "                                      segment_key  confirm  init  on_confirm  \\\n",
       "0  0001e709-5ed3-436c-8f34-c04c27174ca5__46315883        2     2           2   \n",
       "1  0001e709-5ed3-436c-8f34-c04c27174ca5__46315883        2     2           2   \n",
       "2  0001e709-5ed3-436c-8f34-c04c27174ca5__46315883        2     2           2   \n",
       "3  0001e709-5ed3-436c-8f34-c04c27174ca5__46315883        2     2           2   \n",
       "4  0001e709-5ed3-436c-8f34-c04c27174ca5__46315883        2     2           2   \n",
       "\n",
       "   on_init  on_select  select  progression  \n",
       "0        2          2       2         True  \n",
       "1        2          2       2         True  \n",
       "2        2          2       2         True  \n",
       "3        2          2       2         True  \n",
       "4        2          2       2         True  "
      ]
     },
     "execution_count": 8,
     "metadata": {},
     "output_type": "execute_result"
    }
   ],
   "source": [
    "merged_df.head(5)"
   ]
  },
  {
   "cell_type": "code",
   "execution_count": 9,
   "metadata": {},
   "outputs": [
    {
     "name": "stdout",
     "output_type": "stream",
     "text": [
      "Number of transactions that progressed through all stages: 20564\n",
      "Number of transactions at each stage: {'select': 24894, 'init': 22145, 'confirm': 20564}\n"
     ]
    }
   ],
   "source": [
    "# Analyze transactions that did not progress to the next stage\n",
    "non_progressing_transactions = merged_df[~merged_df['progression']]\n",
    "\n",
    "# Example: Check for common providers in dropped transactions\n",
    "common_providers = non_progressing_transactions['provider_name'].value_counts()\n",
    "\n",
    "# Output the results\n",
    "print(f\"Number of transactions that progressed through all stages: {completed_transactions}\")\n",
    "print(f\"Number of transactions at each stage: {stage_counts}\")"
   ]
  },
  {
   "cell_type": "code",
   "execution_count": 10,
   "metadata": {},
   "outputs": [
    {
     "data": {
      "text/plain": [
       "<Axes: >"
      ]
     },
     "execution_count": 10,
     "metadata": {},
     "output_type": "execute_result"
    },
    {
     "data": {
      "image/png": "[encoded data removed]",
      "text/plain": [
       "<Figure size 640x480 with 1 Axes>"
      ]
     },
     "metadata": {},
     "output_type": "display_data"
    }
   ],
   "source": [
    "sns.barplot(stage_counts)"
   ]
  },
  {
   "cell_type": "code",
   "execution_count": 11,
   "metadata": {},
   "outputs": [
    {
     "name": "stdout",
     "output_type": "stream",
     "text": [
      "Drop-offs at each stage: {'select': 2749, 'init': 1581}\n"
     ]
    }
   ],
   "source": [
    "print(f\"Drop-offs at each stage: {drop_offs}\")"
   ]
  },
  {
   "cell_type": "code",
   "execution_count": 12,
   "metadata": {},
   "outputs": [
    {
     "data": {
      "text/plain": [
       "<Axes: >"
      ]
     },
     "execution_count": 12,
     "metadata": {},
     "output_type": "execute_result"
    },
    {
     "data": {
      "image/png": "[encoded data removed]",
      "text/plain": [
       "<Figure size 640x480 with 1 Axes>"
      ]
     },
     "metadata": {},
     "output_type": "display_data"
    }
   ],
   "source": [
    "sns.barplot(drop_offs)"
   ]
  },
  {
   "cell_type": "code",
   "execution_count": 13,
   "metadata": {},
   "outputs": [
    {
     "name": "stdout",
     "output_type": "stream",
     "text": [
      "Chi-squared test for provider_name: p-value = 1.0\n",
      "Chi-squared test for location (std_code): p-value = 0.005152272764557423\n"
     ]
    }
   ],
   "source": [
    "# Chi-Squared Test for provider_name\n",
    "contingency_table = pd.crosstab(df['provider_name'], df['transaction_type'])\n",
    "chi2, p, dof, expected = stats.chi2_contingency(contingency_table)\n",
    "print(f\"Chi-squared test for provider_name: p-value = {p}\")\n",
    "\n",
    "# Chi-Squared Test for location (std_code)\n",
    "contingency_table_location = pd.crosstab(df['std_code'], df['transaction_type'])\n",
    "chi2_location, p_location, dof_location, expected_location = stats.chi2_contingency(contingency_table_location)\n",
    "print(f\"Chi-squared test for location (std_code): p-value = {p_location}\")"
   ]
  },
  {
   "cell_type": "markdown",
   "metadata": {},
   "source": [
    "Chi-Squared Test: \n",
    "\t\n",
    "\tThe p-value is less than 0.05, it suggests a significant association between the categorical variable (e.g., provider, location) and the transaction progression.\n"
   ]
  },
  {
   "cell_type": "code",
   "execution_count": 14,
   "metadata": {},
   "outputs": [],
   "source": [
    "# Convert timestamps to numerical values\n",
    "df['select_hour'] = pd.to_datetime(df['select_timestamp']).dt.hour"
   ]
  },
  {
   "cell_type": "code",
   "execution_count": 15,
   "metadata": {},
   "outputs": [],
   "source": [
    "def day_period(hour):\n",
    "  if hour > 5.00 and hour <= 12.00:\n",
    "    return \"Morning\"\n",
    "  elif hour > 12.00 and hour <= 18.00:\n",
    "    return \"Afternoon\"\n",
    "  elif hour > 18.00 and hour <=23.00:\n",
    "    return \"Evening\"\n",
    "  else:\n",
    "    return \"Late_Night\""
   ]
  },
  {
   "cell_type": "code",
   "execution_count": 16,
   "metadata": {},
   "outputs": [],
   "source": [
    "df[\"Hour_of_day\"] = df[\"select_hour\"].apply(day_period)"
   ]
  },
  {
   "cell_type": "code",
   "execution_count": 17,
   "metadata": {},
   "outputs": [
    {
     "data": {
      "text/html": [
       "<div>\n",
       "<style scoped>\n",
       "    .dataframe tbody tr th:only-of-type {\n",
       "        vertical-align: middle;\n",
       "    }\n",
       "\n",
       "    .dataframe tbody tr th {\n",
       "        vertical-align: top;\n",
       "    }\n",
       "\n",
       "    .dataframe thead th {\n",
       "        text-align: right;\n",
       "    }\n",
       "</style>\n",
       "<table border=\"1\" class=\"dataframe\">\n",
       "  <thead>\n",
       "    <tr style=\"text-align: right;\">\n",
       "      <th></th>\n",
       "      <th>bpp_id</th>\n",
       "      <th>bap_id</th>\n",
       "      <th>transaction_type</th>\n",
       "      <th>transaction_id</th>\n",
       "      <th>num_count</th>\n",
       "      <th>select_timestamp</th>\n",
       "      <th>std_code</th>\n",
       "      <th>provider_name</th>\n",
       "      <th>provider_id</th>\n",
       "      <th>segment_key</th>\n",
       "      <th>select_hour</th>\n",
       "      <th>Hour_of_day</th>\n",
       "    </tr>\n",
       "  </thead>\n",
       "  <tbody>\n",
       "    <tr>\n",
       "      <th>0</th>\n",
       "      <td>webapi.magicpin.in/oms_partner/ondc</td>\n",
       "      <td>ondc-bap.olacabs.com</td>\n",
       "      <td>on_select</td>\n",
       "      <td>0001e709-5ed3-436c-8f34-c04c27174ca5</td>\n",
       "      <td>8</td>\n",
       "      <td>2024-05-29T22:38:52Z</td>\n",
       "      <td>std:080</td>\n",
       "      <td>Wow! Momo</td>\n",
       "      <td>46315883</td>\n",
       "      <td>0001e709-5ed3-436c-8f34-c04c27174ca5__46315883</td>\n",
       "      <td>22.0</td>\n",
       "      <td>Evening</td>\n",
       "    </tr>\n",
       "    <tr>\n",
       "      <th>1</th>\n",
       "      <td>webapi.magicpin.in/oms_partner/ondc</td>\n",
       "      <td>ondc-bap.olacabs.com</td>\n",
       "      <td>confirm</td>\n",
       "      <td>0001e709-5ed3-436c-8f34-c04c27174ca5</td>\n",
       "      <td>1</td>\n",
       "      <td>2024-05-29T22:38:52Z</td>\n",
       "      <td>std:080</td>\n",
       "      <td>Wow! Momo</td>\n",
       "      <td>46315883</td>\n",
       "      <td>0001e709-5ed3-436c-8f34-c04c27174ca5__46315883</td>\n",
       "      <td>22.0</td>\n",
       "      <td>Evening</td>\n",
       "    </tr>\n",
       "    <tr>\n",
       "      <th>2</th>\n",
       "      <td>webapi.magicpin.in/oms_partner/ondc</td>\n",
       "      <td>ondc-bap.olacabs.com</td>\n",
       "      <td>select</td>\n",
       "      <td>0001e709-5ed3-436c-8f34-c04c27174ca5</td>\n",
       "      <td>8</td>\n",
       "      <td>2024-05-29T22:38:52Z</td>\n",
       "      <td>std:080</td>\n",
       "      <td>Wow! Momo</td>\n",
       "      <td>46315883</td>\n",
       "      <td>0001e709-5ed3-436c-8f34-c04c27174ca5__46315883</td>\n",
       "      <td>22.0</td>\n",
       "      <td>Evening</td>\n",
       "    </tr>\n",
       "    <tr>\n",
       "      <th>3</th>\n",
       "      <td>webapi.magicpin.in/oms_partner/ondc</td>\n",
       "      <td>ondc-bap.olacabs.com</td>\n",
       "      <td>on_init</td>\n",
       "      <td>0001e709-5ed3-436c-8f34-c04c27174ca5</td>\n",
       "      <td>2</td>\n",
       "      <td>2024-05-29T22:38:52Z</td>\n",
       "      <td>std:080</td>\n",
       "      <td>Wow! Momo</td>\n",
       "      <td>46315883</td>\n",
       "      <td>0001e709-5ed3-436c-8f34-c04c27174ca5__46315883</td>\n",
       "      <td>22.0</td>\n",
       "      <td>Evening</td>\n",
       "    </tr>\n",
       "    <tr>\n",
       "      <th>4</th>\n",
       "      <td>webapi.magicpin.in/oms_partner/ondc</td>\n",
       "      <td>ondc-bap.olacabs.com</td>\n",
       "      <td>init</td>\n",
       "      <td>0001e709-5ed3-436c-8f34-c04c27174ca5</td>\n",
       "      <td>2</td>\n",
       "      <td>2024-05-29T22:38:52Z</td>\n",
       "      <td>std:080</td>\n",
       "      <td>Wow! Momo</td>\n",
       "      <td>46315883</td>\n",
       "      <td>0001e709-5ed3-436c-8f34-c04c27174ca5__46315883</td>\n",
       "      <td>22.0</td>\n",
       "      <td>Evening</td>\n",
       "    </tr>\n",
       "  </tbody>\n",
       "</table>\n",
       "</div>"
      ],
      "text/plain": [
       "                                bpp_id                bap_id transaction_type  \\\n",
       "0  webapi.magicpin.in/oms_partner/ondc  ondc-bap.olacabs.com        on_select   \n",
       "1  webapi.magicpin.in/oms_partner/ondc  ondc-bap.olacabs.com          confirm   \n",
       "2  webapi.magicpin.in/oms_partner/ondc  ondc-bap.olacabs.com           select   \n",
       "3  webapi.magicpin.in/oms_partner/ondc  ondc-bap.olacabs.com          on_init   \n",
       "4  webapi.magicpin.in/oms_partner/ondc  ondc-bap.olacabs.com             init   \n",
       "\n",
       "                         transaction_id  num_count      select_timestamp  \\\n",
       "0  0001e709-5ed3-436c-8f34-c04c27174ca5          8  2024-05-29T22:38:52Z   \n",
       "1  0001e709-5ed3-436c-8f34-c04c27174ca5          1  2024-05-29T22:38:52Z   \n",
       "2  0001e709-5ed3-436c-8f34-c04c27174ca5          8  2024-05-29T22:38:52Z   \n",
       "3  0001e709-5ed3-436c-8f34-c04c27174ca5          2  2024-05-29T22:38:52Z   \n",
       "4  0001e709-5ed3-436c-8f34-c04c27174ca5          2  2024-05-29T22:38:52Z   \n",
       "\n",
       "  std_code provider_name provider_id  \\\n",
       "0  std:080     Wow! Momo    46315883   \n",
       "1  std:080     Wow! Momo    46315883   \n",
       "2  std:080     Wow! Momo    46315883   \n",
       "3  std:080     Wow! Momo    46315883   \n",
       "4  std:080     Wow! Momo    46315883   \n",
       "\n",
       "                                      segment_key  select_hour Hour_of_day  \n",
       "0  0001e709-5ed3-436c-8f34-c04c27174ca5__46315883         22.0     Evening  \n",
       "1  0001e709-5ed3-436c-8f34-c04c27174ca5__46315883         22.0     Evening  \n",
       "2  0001e709-5ed3-436c-8f34-c04c27174ca5__46315883         22.0     Evening  \n",
       "3  0001e709-5ed3-436c-8f34-c04c27174ca5__46315883         22.0     Evening  \n",
       "4  0001e709-5ed3-436c-8f34-c04c27174ca5__46315883         22.0     Evening  "
      ]
     },
     "execution_count": 17,
     "metadata": {},
     "output_type": "execute_result"
    }
   ],
   "source": [
    "df.head(5)"
   ]
  },
  {
   "cell_type": "code",
   "execution_count": 18,
   "metadata": {},
   "outputs": [],
   "source": [
    "hr_of_day = CategoricalDtype([\"Morning\",\"Afternoon\",\"Evening\",\"Late_Night\"], ordered=True)"
   ]
  },
  {
   "cell_type": "code",
   "execution_count": 19,
   "metadata": {},
   "outputs": [],
   "source": [
    "df[\"Hour_of_day\"] = df[\"Hour_of_day\"].astype(hr_of_day)"
   ]
  },
  {
   "cell_type": "code",
   "execution_count": 20,
   "metadata": {},
   "outputs": [],
   "source": [
    "day_period_crosstab = pd.crosstab(columns=df[\"transaction_type\"],index= df[\"Hour_of_day\"])"
   ]
  },
  {
   "cell_type": "code",
   "execution_count": 21,
   "metadata": {},
   "outputs": [],
   "source": [
    "day_period_crosstab.drop(columns=[\"on_confirm\",\"on_init\",\"on_select\"], inplace=True)"
   ]
  },
  {
   "cell_type": "code",
   "execution_count": 22,
   "metadata": {},
   "outputs": [
    {
     "data": {
      "text/html": [
       "<div>\n",
       "<style scoped>\n",
       "    .dataframe tbody tr th:only-of-type {\n",
       "        vertical-align: middle;\n",
       "    }\n",
       "\n",
       "    .dataframe tbody tr th {\n",
       "        vertical-align: top;\n",
       "    }\n",
       "\n",
       "    .dataframe thead th {\n",
       "        text-align: right;\n",
       "    }\n",
       "</style>\n",
       "<table border=\"1\" class=\"dataframe\">\n",
       "  <thead>\n",
       "    <tr style=\"text-align: right;\">\n",
       "      <th>transaction_type</th>\n",
       "      <th>confirm</th>\n",
       "      <th>init</th>\n",
       "      <th>select</th>\n",
       "    </tr>\n",
       "    <tr>\n",
       "      <th>Hour_of_day</th>\n",
       "      <th></th>\n",
       "      <th></th>\n",
       "      <th></th>\n",
       "    </tr>\n",
       "  </thead>\n",
       "  <tbody>\n",
       "    <tr>\n",
       "      <th>Morning</th>\n",
       "      <td>6962</td>\n",
       "      <td>7699</td>\n",
       "      <td>11375</td>\n",
       "    </tr>\n",
       "    <tr>\n",
       "      <th>Afternoon</th>\n",
       "      <td>20265</td>\n",
       "      <td>22520</td>\n",
       "      <td>33076</td>\n",
       "    </tr>\n",
       "    <tr>\n",
       "      <th>Evening</th>\n",
       "      <td>26292</td>\n",
       "      <td>29245</td>\n",
       "      <td>46156</td>\n",
       "    </tr>\n",
       "    <tr>\n",
       "      <th>Late_Night</th>\n",
       "      <td>2308</td>\n",
       "      <td>2775</td>\n",
       "      <td>6310</td>\n",
       "    </tr>\n",
       "  </tbody>\n",
       "</table>\n",
       "</div>"
      ],
      "text/plain": [
       "transaction_type  confirm   init  select\n",
       "Hour_of_day                             \n",
       "Morning              6962   7699   11375\n",
       "Afternoon           20265  22520   33076\n",
       "Evening             26292  29245   46156\n",
       "Late_Night           2308   2775    6310"
      ]
     },
     "execution_count": 22,
     "metadata": {},
     "output_type": "execute_result"
    }
   ],
   "source": [
    "day_period_crosstab"
   ]
  },
  {
   "cell_type": "code",
   "execution_count": 24,
   "metadata": {},
   "outputs": [
    {
     "data": {
      "text/plain": [
       "<Axes: xlabel='Hour_of_day'>"
      ]
     },
     "execution_count": 24,
     "metadata": {},
     "output_type": "execute_result"
    },
    {
     "data": {
      "image/png": "[encoded data removed]",
      "text/plain": [
       "<Figure size 640x480 with 1 Axes>"
      ]
     },
     "metadata": {},
     "output_type": "display_data"
    }
   ],
   "source": [
    "sns.lineplot(day_period_crosstab)"
   ]
  },
  {
   "cell_type": "code",
   "execution_count": 25,
   "metadata": {},
   "outputs": [
    {
     "name": "stdout",
     "output_type": "stream",
     "text": [
      "T-Test between 'select' and 'confirm' transaction hours: p-value = 9.089762095367694e-16\n",
      "ANOVA for transaction hours: p-value = 1.1237075664892776e-18\n"
     ]
    }
   ],
   "source": [
    "# T-Test for comparing hours between two groups (e.g., 'select' and 'confirm')\n",
    "select_hours = df[df['transaction_type'] == 'select']['select_hour']\n",
    "confirm_hours = df[df['transaction_type'] == 'confirm']['select_hour']\n",
    "\n",
    "t_stat, p_val = ttest_ind(select_hours, confirm_hours)\n",
    "print(f\"T-Test between 'select' and 'confirm' transaction hours: p-value = {p_val}\")\n",
    "\n",
    "# ANOVA for comparing hours across multiple groups\n",
    "init_hours = df[df['transaction_type'] == 'init']['select_hour']\n",
    "\n",
    "f_stat, p_val = f_oneway(select_hours, init_hours, confirm_hours)\n",
    "print(f\"ANOVA for transaction hours: p-value = {p_val}\")"
   ]
  },
  {
   "cell_type": "markdown",
   "metadata": {},
   "source": [
    "T-Test / ANOVA: \n",
    "\t\n",
    "\tA p-value less than 0.05 indicates a significant difference in the means between groups."
   ]
  }
 ],
 "metadata": {
  "kernelspec": {
   "display_name": ".venv",
   "language": "python",
   "name": "python3"
  },
  "language_info": {
   "codemirror_mode": {
    "name": "ipython",
    "version": 3
   },
   "file_extension": ".py",
   "mimetype": "text/x-python",
   "name": "python",
   "nbconvert_exporter": "python",
   "pygments_lexer": "ipython3",
   "version": "3.12.3"
  }
 },
 "nbformat": 4,
 "nbformat_minor": 2
}
