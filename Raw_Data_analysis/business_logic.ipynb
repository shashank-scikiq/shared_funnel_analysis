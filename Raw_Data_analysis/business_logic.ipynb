{
 "cells": [
  {
   "cell_type": "markdown",
   "metadata": {},
   "source": [
    "## Imports and Setup"
   ]
  },
  {
   "cell_type": "code",
   "execution_count": 1,
   "metadata": {},
   "outputs": [],
   "source": [
    "import pandas as pd\n",
    "import numpy as np\n",
    "import os\n",
    "import sys\n",
    "# import logging\n",
    "from dotenv import load_dotenv"
   ]
  },
  {
   "cell_type": "code",
   "execution_count": 2,
   "metadata": {},
   "outputs": [],
   "source": [
    "from pyathena import connect\n",
    "from sqlalchemy import create_engine\n",
    "from pyathena.pandas.cursor import PandasCursor"
   ]
  },
  {
   "cell_type": "code",
   "execution_count": 3,
   "metadata": {},
   "outputs": [],
   "source": [
    "lib_loc = \"D:\\\\ONDC_Project\\\\Funnel_Analysis\\\\webapp\\\\\""
   ]
  },
  {
   "cell_type": "code",
   "execution_count": 5,
   "metadata": {},
   "outputs": [
    {
     "name": "stdout",
     "output_type": "stream",
     "text": [
      "Library location loaded.\n"
     ]
    }
   ],
   "source": [
    "if os.path.exists(lib_loc):\n",
    "  try:\n",
    "    sys.path.append(\"D:\\\\ONDC_Project\\\\Funnel_Analysis\\\\\")\n",
    "  except:\n",
    "    print(FileNotFoundError)\n",
    "  else:\n",
    "    print(\"Library location loaded.\")\n",
    " "
   ]
  },
  {
   "cell_type": "code",
   "execution_count": 6,
   "metadata": {},
   "outputs": [
    {
     "name": "stdout",
     "output_type": "stream",
     "text": [
      "Environment Variables loaded. Proceeding.\n"
     ]
    }
   ],
   "source": [
    "try:\n",
    "  load_dotenv(\".env\")\n",
    "except:\n",
    "  print(\"Unable to load the Envitonment Variables. Exiting.\")\n",
    "  sys.exit()\n",
    "else:\n",
    "  print(\"Environment Variables loaded. Proceeding.\")"
   ]
  },
  {
   "cell_type": "code",
   "execution_count": 7,
   "metadata": {},
   "outputs": [],
   "source": [
    "# AWS ENVs\n",
    "# ==================================================================\n",
    "\n",
    "aws_schema = os.getenv('SCHEMA_NAME')\n",
    "aws_tbl = os.getenv('TABLE_NAME')\n",
    "aws_access_key = os.getenv('AWS_ACCESS_KEY')\n",
    "aws_secret_key = os.getenv('AWS_SECRET_KEY')\n",
    "aws_region = os.getenv('AWS_REGION')\n",
    "aws_staging_dir = os.getenv('S3_STAGING_DIR')\n",
    "aws_db = os.getenv('DATABASE_NAME')\n",
    "\n",
    "\n",
    "# TGT DB Envs\n",
    "# ================================================================== \n",
    "\n",
    "tgt_user = os.getenv(\"POSTGRES_USER\")\n",
    "tgt_pwd = os.getenv(\"POSTGRES_PASSWORD\")\n",
    "tgt_host = os.getenv(\"POSTGRES_HOST\")\n",
    "tgt_port = os.getenv(\"POSTGRES_PORT\") \n",
    "tgt_schema = os.getenv(\"POSTGRES_SCHEMA\")\n",
    "tgt_db = os.getenv(\"POSTGRES_DB\")"
   ]
  },
  {
   "cell_type": "code",
   "execution_count": 9,
   "metadata": {},
   "outputs": [],
   "source": [
    "def connect_pg_src():   \n",
    "  try:\n",
    "    pg_conn = create_engine(f\"postgresql+psycopg://{tgt_user}:{tgt_pwd}@{tgt_host}:{tgt_port}/{tgt_db}\")\n",
    "  except Exception as e:\n",
    "    print(e)\n",
    "    print(\"Unable to connect to the Target Datbase. Falling back to File System.\")\n",
    "  else:\n",
    "    print(\"Connected to the Database. Proceeding.\")\n",
    "    return pg_conn\n",
    "\n",
    "def connect_src_athena():\n",
    "  try:\n",
    "      pandas_ath_cursor = connect(\n",
    "          aws_access_key_id=aws_access_key,\n",
    "          aws_secret_access_key=aws_secret_key,\n",
    "          s3_staging_dir=aws_staging_dir,\n",
    "          region_name=aws_region,\n",
    "          schema_name=aws_schema,\n",
    "          cursor_class=PandasCursor).cursor()\n",
    "  except Exception as e:\n",
    "      print(e.args[0])\n",
    "      print(\"Falling to file system if available.\" )\n",
    "  else:\n",
    "      print(\"Connected to Athena Database using pandas' connector.\")\n",
    "      return pandas_ath_cursor"
   ]
  },
  {
   "cell_type": "code",
   "execution_count": 12,
   "metadata": {},
   "outputs": [],
   "source": [
    "def run_sql_athena(query: str, db_cursor, size: int=0):\n",
    "\tdf = pd.DataFrame()\n",
    "\ttry:\n",
    "\t\tprint(\"Executing the query on AWS Athena.\")\n",
    "\t\tif size != 0:\n",
    "\t\t\tdf = db_cursor.execute(query).fetchmany(size).as_pandas()\n",
    "\t\telse:\n",
    "\t\t\tdf = db_cursor.execute(query).as_pandas()\n",
    "\texcept Exception as e:\n",
    "\t\tprint(e.args[0])\n",
    "\t\treturn\n",
    "\telse:\n",
    "\t\tprint(\"Successfully executed the query.\")\n",
    "\treturn df\n",
    "\n",
    "def write_to_pg(schema_name: str, table_name: str, db_conn:str, df_tgt: pd.DataFrame,chunk: int = 50000):\n",
    "  try:\n",
    "    df_tgt.to_sql(con=db_conn,\n",
    "              chunksize=chunk,if_exists=\"replace\", \n",
    "                            name=table_name, schema=schema_name)\n",
    "  except Exception as e:\n",
    "    print(e.args[0])\n",
    "    return False\n",
    "  else:\n",
    "    print(\"Write Successful\")\n",
    "    return True\n",
    "\n",
    "def pair_mismatch(tgt_df: pd.DataFrame, src: str, tgt: str, srch_col:str = \"transaction_id\") -> list[str]:\n",
    "  \"\"\"\n",
    "  Returns a list of Transaction IDs where there is a pair mismatch for the given pair. \n",
    "  df = Pandas Dataframe. This should be a crosstab format dataframe. \n",
    "  src = Source Column. \n",
    "  tgt = Target Column.\n",
    "  srch_col = Column to return. Default is transaction_id.\n",
    "    \"\"\"\n",
    "  list_missing = list(tgt_df[tgt_df[src] != tgt_df[tgt]][srch_col])\n",
    "  return list_missing\n",
    "\n",
    "def mulitple_calls(tgt_df: pd.DataFrame, col_to_srch: str, srch_col: str = \"transaction_id\", occur: int = 1) -> list[str]:\n",
    "  \"\"\"\n",
    "  Returns a list of Transaction IDs if they have multiple instances.   \n",
    "  df = Pandas Dataframe. \n",
    "  col_to_srch = The column to perform the search operation in.\n",
    "  srch_col = The column to return. The default value is transaction_id. \n",
    "  occur = The number of occurances to search. Default value is 1. This will always search '> occur' instances. \n",
    "    \"\"\"\n",
    "  return list(tgt_df[tgt_df[col_to_srch] > occur][srch_col])"
   ]
  },
  {
   "cell_type": "markdown",
   "metadata": {},
   "source": [
    "## Connect to DB"
   ]
  },
  {
   "cell_type": "code",
   "execution_count": 11,
   "metadata": {},
   "outputs": [
    {
     "name": "stdout",
     "output_type": "stream",
     "text": [
      "Connected to Athena Database using pandas' connector.\n"
     ]
    }
   ],
   "source": [
    "ath_conn = connect_src_athena()"
   ]
  },
  {
   "cell_type": "markdown",
   "metadata": {},
   "source": [
    "## Queries"
   ]
  },
  {
   "cell_type": "markdown",
   "metadata": {},
   "source": [
    "#### Date Range"
   ]
  },
  {
   "cell_type": "code",
   "execution_count": 30,
   "metadata": {},
   "outputs": [],
   "source": [
    "dt_rng = f\"\"\"select distinct date(date_parse(\"select_timestamp\", '%Y-%m-%dT%H:%i:%sZ')) as date_vals\n",
    "from {aws_db}.{aws_tbl}\n",
    "group by date(date_parse(\"select_timestamp\", '%Y-%m-%dT%H:%i:%sZ'))\n",
    "order by date(date_parse(\"select_timestamp\", '%Y-%m-%dT%H:%i:%sZ'));\"\"\""
   ]
  },
  {
   "cell_type": "code",
   "execution_count": 31,
   "metadata": {},
   "outputs": [
    {
     "name": "stdout",
     "output_type": "stream",
     "text": [
      "Executing the query on AWS Athena.\n",
      "Successfully executed the query.\n"
     ]
    }
   ],
   "source": [
    "df_dt_rng = run_sql_athena(dt_rng,ath_conn)"
   ]
  },
  {
   "cell_type": "code",
   "execution_count": 44,
   "metadata": {},
   "outputs": [
    {
     "data": {
      "text/html": [
       "<div>\n",
       "<style scoped>\n",
       "    .dataframe tbody tr th:only-of-type {\n",
       "        vertical-align: middle;\n",
       "    }\n",
       "\n",
       "    .dataframe tbody tr th {\n",
       "        vertical-align: top;\n",
       "    }\n",
       "\n",
       "    .dataframe thead th {\n",
       "        text-align: right;\n",
       "    }\n",
       "</style>\n",
       "<table border=\"1\" class=\"dataframe\">\n",
       "  <thead>\n",
       "    <tr style=\"text-align: right;\">\n",
       "      <th></th>\n",
       "      <th>date_vals</th>\n",
       "    </tr>\n",
       "  </thead>\n",
       "  <tbody>\n",
       "    <tr>\n",
       "      <th>0</th>\n",
       "      <td>2024-04-05</td>\n",
       "    </tr>\n",
       "    <tr>\n",
       "      <th>1</th>\n",
       "      <td>2024-05-02</td>\n",
       "    </tr>\n",
       "    <tr>\n",
       "      <th>2</th>\n",
       "      <td>2024-05-16</td>\n",
       "    </tr>\n",
       "    <tr>\n",
       "      <th>3</th>\n",
       "      <td>2024-05-17</td>\n",
       "    </tr>\n",
       "    <tr>\n",
       "      <th>4</th>\n",
       "      <td>2024-05-20</td>\n",
       "    </tr>\n",
       "  </tbody>\n",
       "</table>\n",
       "</div>"
      ],
      "text/plain": [
       "   date_vals\n",
       "0 2024-04-05\n",
       "1 2024-05-02\n",
       "2 2024-05-16\n",
       "3 2024-05-17\n",
       "4 2024-05-20"
      ]
     },
     "execution_count": 44,
     "metadata": {},
     "output_type": "execute_result"
    }
   ],
   "source": [
    "df_dt_rng.head(5)"
   ]
  },
  {
   "cell_type": "code",
   "execution_count": null,
   "metadata": {},
   "outputs": [],
   "source": [
    "last_date = df_dt_rng.iloc[df_dt_rng.shape[0]-2][\"date_vals\"]"
   ]
  },
  {
   "cell_type": "markdown",
   "metadata": {},
   "source": [
    "#### Transactions per date"
   ]
  },
  {
   "cell_type": "code",
   "execution_count": 23,
   "metadata": {},
   "outputs": [],
   "source": [
    "unique_tr_by_day = f\"\"\"select date(date_parse(\"select_timestamp\", '%Y-%m-%dT%H:%i:%sZ')) as select_date,\n",
    "count(distinct transaction_id)\n",
    "from {aws_db}.{aws_tbl}\n",
    "group by date(date_parse(\"select_timestamp\", '%Y-%m-%dT%H:%i:%sZ'))\n",
    "order by date(date_parse(\"select_timestamp\", '%Y-%m-%dT%H:%i:%sZ'));\"\"\""
   ]
  },
  {
   "cell_type": "code",
   "execution_count": 36,
   "metadata": {},
   "outputs": [],
   "source": [
    "tr_by_day = f\"\"\"select date(date_parse(\"select_timestamp\", '%Y-%m-%dT%H:%i:%sZ')) as select_date,\n",
    "count(transaction_id)\n",
    "from {aws_db}.{aws_tbl}\n",
    "group by date(date_parse(\"select_timestamp\", '%Y-%m-%dT%H:%i:%sZ'))\n",
    "order by date(date_parse(\"select_timestamp\", '%Y-%m-%dT%H:%i:%sZ'));\"\"\""
   ]
  },
  {
   "cell_type": "code",
   "execution_count": 37,
   "metadata": {},
   "outputs": [
    {
     "name": "stdout",
     "output_type": "stream",
     "text": [
      "Executing the query on AWS Athena.\n",
      "Successfully executed the query.\n"
     ]
    }
   ],
   "source": [
    "df_tr_by_dt = run_sql_athena(tr_by_day,ath_conn)"
   ]
  },
  {
   "cell_type": "code",
   "execution_count": 25,
   "metadata": {},
   "outputs": [
    {
     "name": "stdout",
     "output_type": "stream",
     "text": [
      "Executing the query on AWS Athena.\n",
      "Successfully executed the query.\n"
     ]
    }
   ],
   "source": [
    "df_uniq_tr_by_dt = run_sql_athena(unique_tr_by_day,ath_conn)"
   ]
  },
  {
   "cell_type": "code",
   "execution_count": 43,
   "metadata": {},
   "outputs": [
    {
     "data": {
      "text/html": [
       "<div>\n",
       "<style scoped>\n",
       "    .dataframe tbody tr th:only-of-type {\n",
       "        vertical-align: middle;\n",
       "    }\n",
       "\n",
       "    .dataframe tbody tr th {\n",
       "        vertical-align: top;\n",
       "    }\n",
       "\n",
       "    .dataframe thead th {\n",
       "        text-align: right;\n",
       "    }\n",
       "</style>\n",
       "<table border=\"1\" class=\"dataframe\">\n",
       "  <thead>\n",
       "    <tr style=\"text-align: right;\">\n",
       "      <th></th>\n",
       "      <th>select_date</th>\n",
       "      <th>_col1</th>\n",
       "    </tr>\n",
       "  </thead>\n",
       "  <tbody>\n",
       "    <tr>\n",
       "      <th>0</th>\n",
       "      <td>2024-04-05</td>\n",
       "      <td>2</td>\n",
       "    </tr>\n",
       "    <tr>\n",
       "      <th>1</th>\n",
       "      <td>2024-05-02</td>\n",
       "      <td>1</td>\n",
       "    </tr>\n",
       "    <tr>\n",
       "      <th>2</th>\n",
       "      <td>2024-05-16</td>\n",
       "      <td>1</td>\n",
       "    </tr>\n",
       "    <tr>\n",
       "      <th>3</th>\n",
       "      <td>2024-05-17</td>\n",
       "      <td>2</td>\n",
       "    </tr>\n",
       "    <tr>\n",
       "      <th>4</th>\n",
       "      <td>2024-05-20</td>\n",
       "      <td>1</td>\n",
       "    </tr>\n",
       "  </tbody>\n",
       "</table>\n",
       "</div>"
      ],
      "text/plain": [
       "  select_date  _col1\n",
       "0  2024-04-05      2\n",
       "1  2024-05-02      1\n",
       "2  2024-05-16      1\n",
       "3  2024-05-17      2\n",
       "4  2024-05-20      1"
      ]
     },
     "execution_count": 43,
     "metadata": {},
     "output_type": "execute_result"
    }
   ],
   "source": [
    "df_uniq_tr_by_dt.head(5)"
   ]
  },
  {
   "cell_type": "code",
   "execution_count": 42,
   "metadata": {},
   "outputs": [
    {
     "data": {
      "text/html": [
       "<div>\n",
       "<style scoped>\n",
       "    .dataframe tbody tr th:only-of-type {\n",
       "        vertical-align: middle;\n",
       "    }\n",
       "\n",
       "    .dataframe tbody tr th {\n",
       "        vertical-align: top;\n",
       "    }\n",
       "\n",
       "    .dataframe thead th {\n",
       "        text-align: right;\n",
       "    }\n",
       "</style>\n",
       "<table border=\"1\" class=\"dataframe\">\n",
       "  <thead>\n",
       "    <tr style=\"text-align: right;\">\n",
       "      <th></th>\n",
       "      <th>select_date</th>\n",
       "      <th>_col1</th>\n",
       "    </tr>\n",
       "  </thead>\n",
       "  <tbody>\n",
       "    <tr>\n",
       "      <th>0</th>\n",
       "      <td>2024-04-05</td>\n",
       "      <td>3</td>\n",
       "    </tr>\n",
       "    <tr>\n",
       "      <th>1</th>\n",
       "      <td>2024-05-02</td>\n",
       "      <td>6</td>\n",
       "    </tr>\n",
       "    <tr>\n",
       "      <th>2</th>\n",
       "      <td>2024-05-16</td>\n",
       "      <td>6</td>\n",
       "    </tr>\n",
       "    <tr>\n",
       "      <th>3</th>\n",
       "      <td>2024-05-17</td>\n",
       "      <td>12</td>\n",
       "    </tr>\n",
       "    <tr>\n",
       "      <th>4</th>\n",
       "      <td>2024-05-20</td>\n",
       "      <td>6</td>\n",
       "    </tr>\n",
       "  </tbody>\n",
       "</table>\n",
       "</div>"
      ],
      "text/plain": [
       "  select_date  _col1\n",
       "0  2024-04-05      3\n",
       "1  2024-05-02      6\n",
       "2  2024-05-16      6\n",
       "3  2024-05-17     12\n",
       "4  2024-05-20      6"
      ]
     },
     "execution_count": 42,
     "metadata": {},
     "output_type": "execute_result"
    }
   ],
   "source": [
    "df_tr_by_dt.head(5)"
   ]
  },
  {
   "cell_type": "markdown",
   "metadata": {},
   "source": [
    "### Analysis on BAP Ids"
   ]
  },
  {
   "cell_type": "code",
   "execution_count": 39,
   "metadata": {},
   "outputs": [],
   "source": [
    "buyer_seller = f\"\"\"SELECT \n",
    "    provider_id,provider_name, bpp_id, bap_id\n",
    "FROM \n",
    "    {aws_db}.{aws_tbl}\n",
    "GROUP BY \n",
    "    provider_id,provider_name, bpp_id, bap_id\n",
    "ORDER BY \n",
    "\tprovider_id, provider_name, bpp_id, bap_id\"\"\""
   ]
  },
  {
   "cell_type": "code",
   "execution_count": 40,
   "metadata": {},
   "outputs": [
    {
     "name": "stdout",
     "output_type": "stream",
     "text": [
      "Executing the query on AWS Athena.\n",
      "Successfully executed the query.\n"
     ]
    }
   ],
   "source": [
    "df_buyer_seller = run_sql_athena(buyer_seller, ath_conn)"
   ]
  },
  {
   "cell_type": "code",
   "execution_count": 41,
   "metadata": {},
   "outputs": [
    {
     "data": {
      "text/html": [
       "<div>\n",
       "<style scoped>\n",
       "    .dataframe tbody tr th:only-of-type {\n",
       "        vertical-align: middle;\n",
       "    }\n",
       "\n",
       "    .dataframe tbody tr th {\n",
       "        vertical-align: top;\n",
       "    }\n",
       "\n",
       "    .dataframe thead th {\n",
       "        text-align: right;\n",
       "    }\n",
       "</style>\n",
       "<table border=\"1\" class=\"dataframe\">\n",
       "  <thead>\n",
       "    <tr style=\"text-align: right;\">\n",
       "      <th></th>\n",
       "      <th>provider_id</th>\n",
       "      <th>provider_name</th>\n",
       "      <th>bpp_id</th>\n",
       "      <th>bap_id</th>\n",
       "    </tr>\n",
       "  </thead>\n",
       "  <tbody>\n",
       "    <tr>\n",
       "      <th>0</th>\n",
       "      <td>000c63cb00796625e37692675549790a</td>\n",
       "      <td>6TH DIMENSION HOMES AND CARE PRIVATE LIMITED</td>\n",
       "      <td>prod-sellerapp.shiprocket.com</td>\n",
       "      <td>ondc.paytm.com</td>\n",
       "    </tr>\n",
       "    <tr>\n",
       "      <th>1</th>\n",
       "      <td>00YIUUMNZnGMMbLyvuBU</td>\n",
       "      <td>Shivshakti Super Market</td>\n",
       "      <td>ondc.addble.com</td>\n",
       "      <td>ondc.paytm.com</td>\n",
       "    </tr>\n",
       "    <tr>\n",
       "      <th>2</th>\n",
       "      <td>00YIUUMNZnGMMbLyvuBU</td>\n",
       "      <td>Shivshakti Super Market</td>\n",
       "      <td>ondc.addble.com</td>\n",
       "      <td>prd.mystore.in</td>\n",
       "    </tr>\n",
       "    <tr>\n",
       "      <th>3</th>\n",
       "      <td>00b158cc-7150-47db-9e43-94f6d84040e0</td>\n",
       "      <td>Sage Pet Lounge</td>\n",
       "      <td>api.esamudaay.com/ondc/sdk/bpp/retail/uespl</td>\n",
       "      <td>ondc.paytm.com</td>\n",
       "    </tr>\n",
       "    <tr>\n",
       "      <th>4</th>\n",
       "      <td>00d08ce803324ba4357f5eb31848ff4f</td>\n",
       "      <td>MILAGROW NUTS PRIVATE LIMITED</td>\n",
       "      <td>prod-sellerapp.shiprocket.com</td>\n",
       "      <td>ondc.paytm.com</td>\n",
       "    </tr>\n",
       "  </tbody>\n",
       "</table>\n",
       "</div>"
      ],
      "text/plain": [
       "                            provider_id  \\\n",
       "0      000c63cb00796625e37692675549790a   \n",
       "1                  00YIUUMNZnGMMbLyvuBU   \n",
       "2                  00YIUUMNZnGMMbLyvuBU   \n",
       "3  00b158cc-7150-47db-9e43-94f6d84040e0   \n",
       "4      00d08ce803324ba4357f5eb31848ff4f   \n",
       "\n",
       "                                  provider_name  \\\n",
       "0  6TH DIMENSION HOMES AND CARE PRIVATE LIMITED   \n",
       "1                       Shivshakti Super Market   \n",
       "2                       Shivshakti Super Market   \n",
       "3                               Sage Pet Lounge   \n",
       "4                 MILAGROW NUTS PRIVATE LIMITED   \n",
       "\n",
       "                                        bpp_id          bap_id  \n",
       "0                prod-sellerapp.shiprocket.com  ondc.paytm.com  \n",
       "1                              ondc.addble.com  ondc.paytm.com  \n",
       "2                              ondc.addble.com  prd.mystore.in  \n",
       "3  api.esamudaay.com/ondc/sdk/bpp/retail/uespl  ondc.paytm.com  \n",
       "4                prod-sellerapp.shiprocket.com  ondc.paytm.com  "
      ]
     },
     "execution_count": 41,
     "metadata": {},
     "output_type": "execute_result"
    }
   ],
   "source": [
    "df_buyer_seller.head(5)"
   ]
  },
  {
   "cell_type": "code",
   "execution_count": 67,
   "metadata": {},
   "outputs": [],
   "source": [
    "tr_prov = f\"\"\"WITH transaction_provider_counts AS (\n",
    "    SELECT\n",
    "        transaction_id,\n",
    "        provider_id,\n",
    "        COUNT(*) AS provider_count\n",
    "    FROM\n",
    "        {aws_db}.{aws_tbl}\n",
    "    GROUP BY\n",
    "        transaction_id,\n",
    "        provider_id\n",
    "),\n",
    "transaction_unique_provider_counts AS (\n",
    "    SELECT\n",
    "        transaction_id,\n",
    "        COUNT(DISTINCT provider_id) AS unique_provider_count\n",
    "    FROM\n",
    "        {aws_db}.{aws_tbl}\n",
    "    GROUP BY\n",
    "        transaction_id\n",
    ")\n",
    "SELECT\n",
    "    tpc.transaction_id,\n",
    "    tpc.provider_id,\n",
    "    tpc.provider_count\n",
    "FROM\n",
    "    transaction_provider_counts tpc\n",
    "JOIN\n",
    "    transaction_unique_provider_counts tupc\n",
    "    ON tpc.transaction_id = tupc.transaction_id\n",
    "WHERE\n",
    "    tupc.unique_provider_count > 1\n",
    "order by tupc.transaction_id, tpc.provider_id\"\"\""
   ]
  },
  {
   "cell_type": "code",
   "execution_count": 68,
   "metadata": {},
   "outputs": [
    {
     "name": "stdout",
     "output_type": "stream",
     "text": [
      "Executing the query on AWS Athena.\n",
      "Successfully executed the query.\n"
     ]
    }
   ],
   "source": [
    "df_tr_prov = run_sql_athena(tr_prov, ath_conn)"
   ]
  },
  {
   "cell_type": "code",
   "execution_count": 69,
   "metadata": {},
   "outputs": [
    {
     "data": {
      "text/html": [
       "<div>\n",
       "<style scoped>\n",
       "    .dataframe tbody tr th:only-of-type {\n",
       "        vertical-align: middle;\n",
       "    }\n",
       "\n",
       "    .dataframe tbody tr th {\n",
       "        vertical-align: top;\n",
       "    }\n",
       "\n",
       "    .dataframe thead th {\n",
       "        text-align: right;\n",
       "    }\n",
       "</style>\n",
       "<table border=\"1\" class=\"dataframe\">\n",
       "  <thead>\n",
       "    <tr style=\"text-align: right;\">\n",
       "      <th></th>\n",
       "      <th>transaction_id</th>\n",
       "      <th>provider_id</th>\n",
       "      <th>provider_count</th>\n",
       "    </tr>\n",
       "  </thead>\n",
       "  <tbody>\n",
       "    <tr>\n",
       "      <th>0</th>\n",
       "      <td>0001e709-5ed3-436c-8f34-c04c27174ca5</td>\n",
       "      <td>30647898</td>\n",
       "      <td>6</td>\n",
       "    </tr>\n",
       "    <tr>\n",
       "      <th>1</th>\n",
       "      <td>0001e709-5ed3-436c-8f34-c04c27174ca5</td>\n",
       "      <td>46315883</td>\n",
       "      <td>6</td>\n",
       "    </tr>\n",
       "    <tr>\n",
       "      <th>2</th>\n",
       "      <td>0001ee6c-4660-439f-8d33-e9a223b4dcfc</td>\n",
       "      <td>34144401</td>\n",
       "      <td>2</td>\n",
       "    </tr>\n",
       "    <tr>\n",
       "      <th>3</th>\n",
       "      <td>0001ee6c-4660-439f-8d33-e9a223b4dcfc</td>\n",
       "      <td>45013394</td>\n",
       "      <td>2</td>\n",
       "    </tr>\n",
       "    <tr>\n",
       "      <th>4</th>\n",
       "      <td>0001ff16-3926-4e7e-9444-cb510083e046</td>\n",
       "      <td>36415</td>\n",
       "      <td>2</td>\n",
       "    </tr>\n",
       "  </tbody>\n",
       "</table>\n",
       "</div>"
      ],
      "text/plain": [
       "                         transaction_id provider_id  provider_count\n",
       "0  0001e709-5ed3-436c-8f34-c04c27174ca5    30647898               6\n",
       "1  0001e709-5ed3-436c-8f34-c04c27174ca5    46315883               6\n",
       "2  0001ee6c-4660-439f-8d33-e9a223b4dcfc    34144401               2\n",
       "3  0001ee6c-4660-439f-8d33-e9a223b4dcfc    45013394               2\n",
       "4  0001ff16-3926-4e7e-9444-cb510083e046       36415               2"
      ]
     },
     "execution_count": 69,
     "metadata": {},
     "output_type": "execute_result"
    }
   ],
   "source": [
    "df_tr_prov.head(5)"
   ]
  },
  {
   "cell_type": "code",
   "execution_count": 75,
   "metadata": {},
   "outputs": [],
   "source": [
    "multi_calls = f\"\"\"WITH transaction_type_counts AS (\n",
    "    SELECT\n",
    "        transaction_id,\n",
    "        provider_id,\n",
    "        transaction_type,\n",
    "        COUNT(*) AS type_count\n",
    "    FROM\n",
    "        {aws_db}.{aws_tbl}\n",
    "    GROUP BY\n",
    "        transaction_id,\n",
    "        provider_id,\n",
    "        transaction_type\n",
    ")\n",
    "SELECT\n",
    "    transaction_id,\n",
    "    provider_id,\n",
    "    transaction_type,\n",
    "    type_count\n",
    "FROM\n",
    "    transaction_type_counts\n",
    "WHERE\n",
    "    type_count > 1\n",
    "order by type_count desc, transaction_id, provider_id\"\"\""
   ]
  },
  {
   "cell_type": "code",
   "execution_count": 76,
   "metadata": {},
   "outputs": [
    {
     "name": "stdout",
     "output_type": "stream",
     "text": [
      "Executing the query on AWS Athena.\n",
      "Successfully executed the query.\n"
     ]
    }
   ],
   "source": [
    "df_multi_calls = run_sql_athena(multi_calls, ath_conn)"
   ]
  },
  {
   "cell_type": "code",
   "execution_count": 77,
   "metadata": {},
   "outputs": [
    {
     "data": {
      "text/html": [
       "<div>\n",
       "<style scoped>\n",
       "    .dataframe tbody tr th:only-of-type {\n",
       "        vertical-align: middle;\n",
       "    }\n",
       "\n",
       "    .dataframe tbody tr th {\n",
       "        vertical-align: top;\n",
       "    }\n",
       "\n",
       "    .dataframe thead th {\n",
       "        text-align: right;\n",
       "    }\n",
       "</style>\n",
       "<table border=\"1\" class=\"dataframe\">\n",
       "  <thead>\n",
       "    <tr style=\"text-align: right;\">\n",
       "      <th></th>\n",
       "      <th>transaction_id</th>\n",
       "      <th>provider_id</th>\n",
       "      <th>transaction_type</th>\n",
       "      <th>type_count</th>\n",
       "    </tr>\n",
       "  </thead>\n",
       "  <tbody>\n",
       "    <tr>\n",
       "      <th>0</th>\n",
       "      <td>5e6ff7b3-56af-447a-8d10-87734379151e</td>\n",
       "      <td>0444ff21-fb7c-4579-9459-987ffbb765-3425</td>\n",
       "      <td>on_init</td>\n",
       "      <td>7</td>\n",
       "    </tr>\n",
       "    <tr>\n",
       "      <th>1</th>\n",
       "      <td>5e6ff7b3-56af-447a-8d10-87734379151e</td>\n",
       "      <td>0444ff21-fb7c-4579-9459-987ffbb765-3425</td>\n",
       "      <td>select</td>\n",
       "      <td>7</td>\n",
       "    </tr>\n",
       "    <tr>\n",
       "      <th>2</th>\n",
       "      <td>5e6ff7b3-56af-447a-8d10-87734379151e</td>\n",
       "      <td>0444ff21-fb7c-4579-9459-987ffbb765-3425</td>\n",
       "      <td>on_select</td>\n",
       "      <td>7</td>\n",
       "    </tr>\n",
       "    <tr>\n",
       "      <th>3</th>\n",
       "      <td>5e6ff7b3-56af-447a-8d10-87734379151e</td>\n",
       "      <td>0444ff21-fb7c-4579-9459-987ffbb765-3425</td>\n",
       "      <td>init</td>\n",
       "      <td>7</td>\n",
       "    </tr>\n",
       "    <tr>\n",
       "      <th>4</th>\n",
       "      <td>None</td>\n",
       "      <td>NaN</td>\n",
       "      <td>init</td>\n",
       "      <td>7</td>\n",
       "    </tr>\n",
       "  </tbody>\n",
       "</table>\n",
       "</div>"
      ],
      "text/plain": [
       "                         transaction_id  \\\n",
       "0  5e6ff7b3-56af-447a-8d10-87734379151e   \n",
       "1  5e6ff7b3-56af-447a-8d10-87734379151e   \n",
       "2  5e6ff7b3-56af-447a-8d10-87734379151e   \n",
       "3  5e6ff7b3-56af-447a-8d10-87734379151e   \n",
       "4                                  None   \n",
       "\n",
       "                               provider_id transaction_type  type_count  \n",
       "0  0444ff21-fb7c-4579-9459-987ffbb765-3425          on_init           7  \n",
       "1  0444ff21-fb7c-4579-9459-987ffbb765-3425           select           7  \n",
       "2  0444ff21-fb7c-4579-9459-987ffbb765-3425        on_select           7  \n",
       "3  0444ff21-fb7c-4579-9459-987ffbb765-3425             init           7  \n",
       "4                                      NaN             init           7  "
      ]
     },
     "execution_count": 77,
     "metadata": {},
     "output_type": "execute_result"
    }
   ],
   "source": [
    "df_multi_calls.head(5)"
   ]
  }
 ],
 "metadata": {
  "kernelspec": {
   "display_name": ".venv",
   "language": "python",
   "name": "python3"
  },
  "language_info": {
   "codemirror_mode": {
    "name": "ipython",
    "version": 3
   },
   "file_extension": ".py",
   "mimetype": "text/x-python",
   "name": "python",
   "nbconvert_exporter": "python",
   "pygments_lexer": "ipython3",
   "version": "3.12.3"
  }
 },
 "nbformat": 4,
 "nbformat_minor": 2
}
